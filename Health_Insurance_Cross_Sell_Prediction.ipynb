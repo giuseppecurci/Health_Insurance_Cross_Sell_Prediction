{
  "nbformat": 4,
  "nbformat_minor": 0,
  "metadata": {
    "colab": {
      "provenance": [],
      "include_colab_link": true
    },
    "kernelspec": {
      "name": "python3",
      "display_name": "Python 3"
    },
    "language_info": {
      "name": "python"
    },
    "gpuClass": "standard"
  },
  "cells": [
    {
      "cell_type": "markdown",
      "metadata": {
        "id": "view-in-github",
        "colab_type": "text"
      },
      "source": [
        "<a href=\"https://colab.research.google.com/github/peppe0101/Health_Insurance_Cross_Sell_Prediction/blob/main/Health_Insurance_Cross_Sell_Prediction.ipynb\" target=\"_parent\"><img src=\"https://colab.research.google.com/assets/colab-badge.svg\" alt=\"Open In Colab\"/></a>"
      ]
    },
    {
      "cell_type": "markdown",
      "source": [
        "# **OUTLINE**\n",
        "\n",
        "1.   [Importing libraries/modules](#scrollTo=PODIBt4xS2hb&line=1&uniqifier=1)\n",
        "2.   [Exploratory Data Analysis](#scrollTo=Wtz_30GGRmyK&line=1&uniqifier=1)\n",
        "  1.   [Univariate](#scrollTo=cFy42cLVEiY_&line=1&uniqifier=1)\n",
        "  2. [Bivariate](#scrollTo=x-8C0xD_DGJ2)\n",
        "  3. [Multivariate](#scrollTo=FTqjgGrYG8IO)\n",
        "3. [Data Preparation](#scrollTo=5-KT_5gtb16L)\n",
        "  1. [Encoding](#scrollTo=GEBrs2v-Npaf)\n",
        "  2. [Tackling Imbalance](#scrollTo=NSshx6K9acH6)\n",
        "  3. [Standardization](#scrollTo=Yc-WYCIp0-OS)\n",
        "4.   [Model Evaluation](#scrollTo=wn2n9IZhczUy&line=1&uniqifier=1)\n",
        "  1. [Creating Logistic Model](#scrollTo=YVTmdZUN4yJ2&line=1&uniqifier=1)\n",
        "  2. [Model Evaluation](#scrollTo=_4gLFBqL7rrA&line=1&uniqifier=1)\n",
        "  3. [Cross Validation](#scrollTo=7VAEmcfJORfn&line=1&uniqifier=1)\n",
        "  4. [Conclusion](#scrollTo=WhGcmRoZaXvz&line=1&uniqifier=1)\n",
        "5. [Previsions](#scrollTo=USZ4VCfwJcoN)\n",
        "  1. [Training on whole Train Set](#scrollTo=hwW-EAGMQUOm)\n",
        "  2. [Predictions on Test Set](#scrollTo=QDWiDLEmQavF)\n",
        "\n",
        "\n"
      ],
      "metadata": {
        "id": "fLKKpiJRSEp-"
      }
    },
    {
      "cell_type": "markdown",
      "source": [
        "# **1. Importing libraries/modules**\n",
        "[Take me to Outline](#scrollTo=fLKKpiJRSEp-&line=5&uniqifier=1)"
      ],
      "metadata": {
        "id": "PODIBt4xS2hb"
      }
    },
    {
      "cell_type": "code",
      "execution_count": 1,
      "metadata": {
        "id": "21yno0OXef4J"
      },
      "outputs": [],
      "source": [
        "import pandas as pd\n",
        "import numpy as np\n",
        "import seaborn as sns\n",
        "import matplotlib.pyplot as plt\n",
        "import scipy as ss\n",
        "\n",
        "from scipy.stats import chi2_contingency \n",
        "from patsy import dmatrices\n",
        "from statsmodels.stats.outliers_influence import variance_inflation_factor\n",
        "\n",
        "from sklearn.preprocessing   import StandardScaler\n",
        "from sklearn.linear_model    import LogisticRegression\n",
        "from sklearn.metrics         import precision_score, recall_score, accuracy_score,\\\n",
        "                                    balanced_accuracy_score,classification_report,roc_auc_score,\\\n",
        "                                    top_k_accuracy_score, roc_curve,auc,RocCurveDisplay,confusion_matrix, ConfusionMatrixDisplay\n",
        "from sklearn.model_selection import train_test_split, StratifiedKFold, cross_val_score, RepeatedStratifiedKFold\n",
        "\n",
        "from imblearn.over_sampling import RandomOverSampler\n",
        "from imblearn.pipeline import Pipeline"
      ]
    },
    {
      "cell_type": "code",
      "source": [
        "! pip install opendatasets\n",
        "import opendatasets as od\n",
        "od.download(\"https://www.kaggle.com/datasets/anmolkumar/health-insurance-cross-sell-prediction\") #importing dataset from Kaggle"
      ],
      "metadata": {
        "id": "0kDhdxkEfSEb",
        "colab": {
          "base_uri": "https://localhost:8080/"
        },
        "outputId": "594e559c-ba15-42c1-b238-c0d9bded9a80"
      },
      "execution_count": 2,
      "outputs": [
        {
          "output_type": "stream",
          "name": "stdout",
          "text": [
            "Looking in indexes: https://pypi.org/simple, https://us-python.pkg.dev/colab-wheels/public/simple/\n",
            "Collecting opendatasets\n",
            "  Downloading opendatasets-0.1.22-py3-none-any.whl (15 kB)\n",
            "Requirement already satisfied: click in /usr/local/lib/python3.8/dist-packages (from opendatasets) (8.1.3)\n",
            "Requirement already satisfied: tqdm in /usr/local/lib/python3.8/dist-packages (from opendatasets) (4.64.1)\n",
            "Requirement already satisfied: kaggle in /usr/local/lib/python3.8/dist-packages (from opendatasets) (1.5.12)\n",
            "Requirement already satisfied: python-slugify in /usr/local/lib/python3.8/dist-packages (from kaggle->opendatasets) (8.0.1)\n",
            "Requirement already satisfied: python-dateutil in /usr/local/lib/python3.8/dist-packages (from kaggle->opendatasets) (2.8.2)\n",
            "Requirement already satisfied: six>=1.10 in /usr/local/lib/python3.8/dist-packages (from kaggle->opendatasets) (1.15.0)\n",
            "Requirement already satisfied: requests in /usr/local/lib/python3.8/dist-packages (from kaggle->opendatasets) (2.25.1)\n",
            "Requirement already satisfied: urllib3 in /usr/local/lib/python3.8/dist-packages (from kaggle->opendatasets) (1.26.14)\n",
            "Requirement already satisfied: certifi in /usr/local/lib/python3.8/dist-packages (from kaggle->opendatasets) (2022.12.7)\n",
            "Requirement already satisfied: text-unidecode>=1.3 in /usr/local/lib/python3.8/dist-packages (from python-slugify->kaggle->opendatasets) (1.3)\n",
            "Requirement already satisfied: idna<3,>=2.5 in /usr/local/lib/python3.8/dist-packages (from requests->kaggle->opendatasets) (2.10)\n",
            "Requirement already satisfied: chardet<5,>=3.0.2 in /usr/local/lib/python3.8/dist-packages (from requests->kaggle->opendatasets) (4.0.0)\n",
            "Installing collected packages: opendatasets\n",
            "Successfully installed opendatasets-0.1.22\n",
            "Please provide your Kaggle credentials to download this dataset. Learn more: http://bit.ly/kaggle-creds\n",
            "Your Kaggle username: giuseppecurci\n",
            "Your Kaggle Key: ··········\n",
            "Downloading health-insurance-cross-sell-prediction.zip to ./health-insurance-cross-sell-prediction\n"
          ]
        },
        {
          "output_type": "stream",
          "name": "stderr",
          "text": [
            "100%|██████████| 6.47M/6.47M [00:00<00:00, 52.8MB/s]"
          ]
        },
        {
          "output_type": "stream",
          "name": "stdout",
          "text": [
            "\n"
          ]
        },
        {
          "output_type": "stream",
          "name": "stderr",
          "text": [
            "\n"
          ]
        }
      ]
    },
    {
      "cell_type": "code",
      "source": [
        "test = pd.read_csv(\"/content/health-insurance-cross-sell-prediction/test.csv\")\n",
        "train = pd.read_csv(\"/content/health-insurance-cross-sell-prediction/train.csv\")"
      ],
      "metadata": {
        "id": "WOtzG1MumTK0"
      },
      "execution_count": 3,
      "outputs": []
    },
    {
      "cell_type": "markdown",
      "source": [
        "# **2. Exploratory Data Anlysis**\n",
        "[Take me to Outline](#scrollTo=fLKKpiJRSEp-&line=5&uniqifier=1)"
      ],
      "metadata": {
        "id": "Wtz_30GGRmyK"
      }
    },
    {
      "cell_type": "code",
      "source": [
        "train_data_analysis = train.drop(\"id\",axis=1)\n",
        "train_data_analysis.head()"
      ],
      "metadata": {
        "id": "kPrrnc0rsv_K",
        "colab": {
          "base_uri": "https://localhost:8080/",
          "height": 206
        },
        "outputId": "f8744f6e-9efc-4fb5-836e-7aeb8df80031"
      },
      "execution_count": 4,
      "outputs": [
        {
          "output_type": "execute_result",
          "data": {
            "text/plain": [
              "   Gender  Age  Driving_License  Region_Code  Previously_Insured Vehicle_Age  \\\n",
              "0    Male   44                1         28.0                   0   > 2 Years   \n",
              "1    Male   76                1          3.0                   0    1-2 Year   \n",
              "2    Male   47                1         28.0                   0   > 2 Years   \n",
              "3    Male   21                1         11.0                   1    < 1 Year   \n",
              "4  Female   29                1         41.0                   1    < 1 Year   \n",
              "\n",
              "  Vehicle_Damage  Annual_Premium  Policy_Sales_Channel  Vintage  Response  \n",
              "0            Yes         40454.0                  26.0      217         1  \n",
              "1             No         33536.0                  26.0      183         0  \n",
              "2            Yes         38294.0                  26.0       27         1  \n",
              "3             No         28619.0                 152.0      203         0  \n",
              "4             No         27496.0                 152.0       39         0  "
            ],
            "text/html": [
              "\n",
              "  <div id=\"df-f5c0124a-0fe7-4c47-94cb-f81735bc3573\">\n",
              "    <div class=\"colab-df-container\">\n",
              "      <div>\n",
              "<style scoped>\n",
              "    .dataframe tbody tr th:only-of-type {\n",
              "        vertical-align: middle;\n",
              "    }\n",
              "\n",
              "    .dataframe tbody tr th {\n",
              "        vertical-align: top;\n",
              "    }\n",
              "\n",
              "    .dataframe thead th {\n",
              "        text-align: right;\n",
              "    }\n",
              "</style>\n",
              "<table border=\"1\" class=\"dataframe\">\n",
              "  <thead>\n",
              "    <tr style=\"text-align: right;\">\n",
              "      <th></th>\n",
              "      <th>Gender</th>\n",
              "      <th>Age</th>\n",
              "      <th>Driving_License</th>\n",
              "      <th>Region_Code</th>\n",
              "      <th>Previously_Insured</th>\n",
              "      <th>Vehicle_Age</th>\n",
              "      <th>Vehicle_Damage</th>\n",
              "      <th>Annual_Premium</th>\n",
              "      <th>Policy_Sales_Channel</th>\n",
              "      <th>Vintage</th>\n",
              "      <th>Response</th>\n",
              "    </tr>\n",
              "  </thead>\n",
              "  <tbody>\n",
              "    <tr>\n",
              "      <th>0</th>\n",
              "      <td>Male</td>\n",
              "      <td>44</td>\n",
              "      <td>1</td>\n",
              "      <td>28.0</td>\n",
              "      <td>0</td>\n",
              "      <td>&gt; 2 Years</td>\n",
              "      <td>Yes</td>\n",
              "      <td>40454.0</td>\n",
              "      <td>26.0</td>\n",
              "      <td>217</td>\n",
              "      <td>1</td>\n",
              "    </tr>\n",
              "    <tr>\n",
              "      <th>1</th>\n",
              "      <td>Male</td>\n",
              "      <td>76</td>\n",
              "      <td>1</td>\n",
              "      <td>3.0</td>\n",
              "      <td>0</td>\n",
              "      <td>1-2 Year</td>\n",
              "      <td>No</td>\n",
              "      <td>33536.0</td>\n",
              "      <td>26.0</td>\n",
              "      <td>183</td>\n",
              "      <td>0</td>\n",
              "    </tr>\n",
              "    <tr>\n",
              "      <th>2</th>\n",
              "      <td>Male</td>\n",
              "      <td>47</td>\n",
              "      <td>1</td>\n",
              "      <td>28.0</td>\n",
              "      <td>0</td>\n",
              "      <td>&gt; 2 Years</td>\n",
              "      <td>Yes</td>\n",
              "      <td>38294.0</td>\n",
              "      <td>26.0</td>\n",
              "      <td>27</td>\n",
              "      <td>1</td>\n",
              "    </tr>\n",
              "    <tr>\n",
              "      <th>3</th>\n",
              "      <td>Male</td>\n",
              "      <td>21</td>\n",
              "      <td>1</td>\n",
              "      <td>11.0</td>\n",
              "      <td>1</td>\n",
              "      <td>&lt; 1 Year</td>\n",
              "      <td>No</td>\n",
              "      <td>28619.0</td>\n",
              "      <td>152.0</td>\n",
              "      <td>203</td>\n",
              "      <td>0</td>\n",
              "    </tr>\n",
              "    <tr>\n",
              "      <th>4</th>\n",
              "      <td>Female</td>\n",
              "      <td>29</td>\n",
              "      <td>1</td>\n",
              "      <td>41.0</td>\n",
              "      <td>1</td>\n",
              "      <td>&lt; 1 Year</td>\n",
              "      <td>No</td>\n",
              "      <td>27496.0</td>\n",
              "      <td>152.0</td>\n",
              "      <td>39</td>\n",
              "      <td>0</td>\n",
              "    </tr>\n",
              "  </tbody>\n",
              "</table>\n",
              "</div>\n",
              "      <button class=\"colab-df-convert\" onclick=\"convertToInteractive('df-f5c0124a-0fe7-4c47-94cb-f81735bc3573')\"\n",
              "              title=\"Convert this dataframe to an interactive table.\"\n",
              "              style=\"display:none;\">\n",
              "        \n",
              "  <svg xmlns=\"http://www.w3.org/2000/svg\" height=\"24px\"viewBox=\"0 0 24 24\"\n",
              "       width=\"24px\">\n",
              "    <path d=\"M0 0h24v24H0V0z\" fill=\"none\"/>\n",
              "    <path d=\"M18.56 5.44l.94 2.06.94-2.06 2.06-.94-2.06-.94-.94-2.06-.94 2.06-2.06.94zm-11 1L8.5 8.5l.94-2.06 2.06-.94-2.06-.94L8.5 2.5l-.94 2.06-2.06.94zm10 10l.94 2.06.94-2.06 2.06-.94-2.06-.94-.94-2.06-.94 2.06-2.06.94z\"/><path d=\"M17.41 7.96l-1.37-1.37c-.4-.4-.92-.59-1.43-.59-.52 0-1.04.2-1.43.59L10.3 9.45l-7.72 7.72c-.78.78-.78 2.05 0 2.83L4 21.41c.39.39.9.59 1.41.59.51 0 1.02-.2 1.41-.59l7.78-7.78 2.81-2.81c.8-.78.8-2.07 0-2.86zM5.41 20L4 18.59l7.72-7.72 1.47 1.35L5.41 20z\"/>\n",
              "  </svg>\n",
              "      </button>\n",
              "      \n",
              "  <style>\n",
              "    .colab-df-container {\n",
              "      display:flex;\n",
              "      flex-wrap:wrap;\n",
              "      gap: 12px;\n",
              "    }\n",
              "\n",
              "    .colab-df-convert {\n",
              "      background-color: #E8F0FE;\n",
              "      border: none;\n",
              "      border-radius: 50%;\n",
              "      cursor: pointer;\n",
              "      display: none;\n",
              "      fill: #1967D2;\n",
              "      height: 32px;\n",
              "      padding: 0 0 0 0;\n",
              "      width: 32px;\n",
              "    }\n",
              "\n",
              "    .colab-df-convert:hover {\n",
              "      background-color: #E2EBFA;\n",
              "      box-shadow: 0px 1px 2px rgba(60, 64, 67, 0.3), 0px 1px 3px 1px rgba(60, 64, 67, 0.15);\n",
              "      fill: #174EA6;\n",
              "    }\n",
              "\n",
              "    [theme=dark] .colab-df-convert {\n",
              "      background-color: #3B4455;\n",
              "      fill: #D2E3FC;\n",
              "    }\n",
              "\n",
              "    [theme=dark] .colab-df-convert:hover {\n",
              "      background-color: #434B5C;\n",
              "      box-shadow: 0px 1px 3px 1px rgba(0, 0, 0, 0.15);\n",
              "      filter: drop-shadow(0px 1px 2px rgba(0, 0, 0, 0.3));\n",
              "      fill: #FFFFFF;\n",
              "    }\n",
              "  </style>\n",
              "\n",
              "      <script>\n",
              "        const buttonEl =\n",
              "          document.querySelector('#df-f5c0124a-0fe7-4c47-94cb-f81735bc3573 button.colab-df-convert');\n",
              "        buttonEl.style.display =\n",
              "          google.colab.kernel.accessAllowed ? 'block' : 'none';\n",
              "\n",
              "        async function convertToInteractive(key) {\n",
              "          const element = document.querySelector('#df-f5c0124a-0fe7-4c47-94cb-f81735bc3573');\n",
              "          const dataTable =\n",
              "            await google.colab.kernel.invokeFunction('convertToInteractive',\n",
              "                                                     [key], {});\n",
              "          if (!dataTable) return;\n",
              "\n",
              "          const docLinkHtml = 'Like what you see? Visit the ' +\n",
              "            '<a target=\"_blank\" href=https://colab.research.google.com/notebooks/data_table.ipynb>data table notebook</a>'\n",
              "            + ' to learn more about interactive tables.';\n",
              "          element.innerHTML = '';\n",
              "          dataTable['output_type'] = 'display_data';\n",
              "          await google.colab.output.renderOutput(dataTable, element);\n",
              "          const docLink = document.createElement('div');\n",
              "          docLink.innerHTML = docLinkHtml;\n",
              "          element.appendChild(docLink);\n",
              "        }\n",
              "      </script>\n",
              "    </div>\n",
              "  </div>\n",
              "  "
            ]
          },
          "metadata": {},
          "execution_count": 4
        }
      ]
    },
    {
      "cell_type": "markdown",
      "source": [
        "## **Questions**\n",
        "\n",
        "1)Are males more intersted in car insurance?\n",
        "\n",
        "2)Are older people more likely to show interest for a car insurance?(cut-off: >40 years)\n",
        "\n",
        "3)Are people who had their vehicle previously damaged more intersted in car insurance?\n",
        "\n",
        "4)The newer one's vehicle is, the more likely one is to buy a car insurance?(since the vehicle is probably more valuable)"
      ],
      "metadata": {
        "id": "KpWeVSDXRRgf"
      }
    },
    {
      "cell_type": "markdown",
      "source": [
        "## 2.1 Univariate"
      ],
      "metadata": {
        "id": "6a9FktqDnaVt"
      }
    },
    {
      "cell_type": "markdown",
      "source": [
        "### **Check for NA**\n",
        "There's no Na"
      ],
      "metadata": {
        "id": "9PHYr71tw0hS"
      }
    },
    {
      "cell_type": "code",
      "source": [
        "train.isnull().sum() "
      ],
      "metadata": {
        "id": "PC779vLrnooV",
        "colab": {
          "base_uri": "https://localhost:8080/"
        },
        "outputId": "80dec3ba-dd70-4e1a-e1fc-9a2bff1df05c"
      },
      "execution_count": 5,
      "outputs": [
        {
          "output_type": "execute_result",
          "data": {
            "text/plain": [
              "id                      0\n",
              "Gender                  0\n",
              "Age                     0\n",
              "Driving_License         0\n",
              "Region_Code             0\n",
              "Previously_Insured      0\n",
              "Vehicle_Age             0\n",
              "Vehicle_Damage          0\n",
              "Annual_Premium          0\n",
              "Policy_Sales_Channel    0\n",
              "Vintage                 0\n",
              "Response                0\n",
              "dtype: int64"
            ]
          },
          "metadata": {},
          "execution_count": 5
        }
      ]
    },
    {
      "cell_type": "code",
      "source": [
        "test.isnull().sum()"
      ],
      "metadata": {
        "id": "S1WOiAi9wntY",
        "colab": {
          "base_uri": "https://localhost:8080/"
        },
        "outputId": "0c7fe4d5-45d7-4ad2-c291-761f67a117e1"
      },
      "execution_count": 6,
      "outputs": [
        {
          "output_type": "execute_result",
          "data": {
            "text/plain": [
              "id                      0\n",
              "Gender                  0\n",
              "Age                     0\n",
              "Driving_License         0\n",
              "Region_Code             0\n",
              "Previously_Insured      0\n",
              "Vehicle_Age             0\n",
              "Vehicle_Damage          0\n",
              "Annual_Premium          0\n",
              "Policy_Sales_Channel    0\n",
              "Vintage                 0\n",
              "dtype: int64"
            ]
          },
          "metadata": {},
          "execution_count": 6
        }
      ]
    },
    {
      "cell_type": "markdown",
      "source": [
        "### **Description for numberical and categorical variables**"
      ],
      "metadata": {
        "id": "uMW6GpJDxGPS"
      }
    },
    {
      "cell_type": "code",
      "source": [
        "round(train_data_analysis.loc[:,[\"Age\",\"Annual_Premium\",\"Vintage\"]].describe(),1)"
      ],
      "metadata": {
        "id": "ezB5eG6lxF-5",
        "colab": {
          "base_uri": "https://localhost:8080/",
          "height": 300
        },
        "outputId": "ff41349c-fa01-490e-f091-d38f2a589281"
      },
      "execution_count": 7,
      "outputs": [
        {
          "output_type": "execute_result",
          "data": {
            "text/plain": [
              "            Age  Annual_Premium   Vintage\n",
              "count  381109.0        381109.0  381109.0\n",
              "mean       38.8         30564.4     154.3\n",
              "std        15.5         17213.2      83.7\n",
              "min        20.0          2630.0      10.0\n",
              "25%        25.0         24405.0      82.0\n",
              "50%        36.0         31669.0     154.0\n",
              "75%        49.0         39400.0     227.0\n",
              "max        85.0        540165.0     299.0"
            ],
            "text/html": [
              "\n",
              "  <div id=\"df-fb6b4d9e-aa2a-43b7-a3f9-cd697566809a\">\n",
              "    <div class=\"colab-df-container\">\n",
              "      <div>\n",
              "<style scoped>\n",
              "    .dataframe tbody tr th:only-of-type {\n",
              "        vertical-align: middle;\n",
              "    }\n",
              "\n",
              "    .dataframe tbody tr th {\n",
              "        vertical-align: top;\n",
              "    }\n",
              "\n",
              "    .dataframe thead th {\n",
              "        text-align: right;\n",
              "    }\n",
              "</style>\n",
              "<table border=\"1\" class=\"dataframe\">\n",
              "  <thead>\n",
              "    <tr style=\"text-align: right;\">\n",
              "      <th></th>\n",
              "      <th>Age</th>\n",
              "      <th>Annual_Premium</th>\n",
              "      <th>Vintage</th>\n",
              "    </tr>\n",
              "  </thead>\n",
              "  <tbody>\n",
              "    <tr>\n",
              "      <th>count</th>\n",
              "      <td>381109.0</td>\n",
              "      <td>381109.0</td>\n",
              "      <td>381109.0</td>\n",
              "    </tr>\n",
              "    <tr>\n",
              "      <th>mean</th>\n",
              "      <td>38.8</td>\n",
              "      <td>30564.4</td>\n",
              "      <td>154.3</td>\n",
              "    </tr>\n",
              "    <tr>\n",
              "      <th>std</th>\n",
              "      <td>15.5</td>\n",
              "      <td>17213.2</td>\n",
              "      <td>83.7</td>\n",
              "    </tr>\n",
              "    <tr>\n",
              "      <th>min</th>\n",
              "      <td>20.0</td>\n",
              "      <td>2630.0</td>\n",
              "      <td>10.0</td>\n",
              "    </tr>\n",
              "    <tr>\n",
              "      <th>25%</th>\n",
              "      <td>25.0</td>\n",
              "      <td>24405.0</td>\n",
              "      <td>82.0</td>\n",
              "    </tr>\n",
              "    <tr>\n",
              "      <th>50%</th>\n",
              "      <td>36.0</td>\n",
              "      <td>31669.0</td>\n",
              "      <td>154.0</td>\n",
              "    </tr>\n",
              "    <tr>\n",
              "      <th>75%</th>\n",
              "      <td>49.0</td>\n",
              "      <td>39400.0</td>\n",
              "      <td>227.0</td>\n",
              "    </tr>\n",
              "    <tr>\n",
              "      <th>max</th>\n",
              "      <td>85.0</td>\n",
              "      <td>540165.0</td>\n",
              "      <td>299.0</td>\n",
              "    </tr>\n",
              "  </tbody>\n",
              "</table>\n",
              "</div>\n",
              "      <button class=\"colab-df-convert\" onclick=\"convertToInteractive('df-fb6b4d9e-aa2a-43b7-a3f9-cd697566809a')\"\n",
              "              title=\"Convert this dataframe to an interactive table.\"\n",
              "              style=\"display:none;\">\n",
              "        \n",
              "  <svg xmlns=\"http://www.w3.org/2000/svg\" height=\"24px\"viewBox=\"0 0 24 24\"\n",
              "       width=\"24px\">\n",
              "    <path d=\"M0 0h24v24H0V0z\" fill=\"none\"/>\n",
              "    <path d=\"M18.56 5.44l.94 2.06.94-2.06 2.06-.94-2.06-.94-.94-2.06-.94 2.06-2.06.94zm-11 1L8.5 8.5l.94-2.06 2.06-.94-2.06-.94L8.5 2.5l-.94 2.06-2.06.94zm10 10l.94 2.06.94-2.06 2.06-.94-2.06-.94-.94-2.06-.94 2.06-2.06.94z\"/><path d=\"M17.41 7.96l-1.37-1.37c-.4-.4-.92-.59-1.43-.59-.52 0-1.04.2-1.43.59L10.3 9.45l-7.72 7.72c-.78.78-.78 2.05 0 2.83L4 21.41c.39.39.9.59 1.41.59.51 0 1.02-.2 1.41-.59l7.78-7.78 2.81-2.81c.8-.78.8-2.07 0-2.86zM5.41 20L4 18.59l7.72-7.72 1.47 1.35L5.41 20z\"/>\n",
              "  </svg>\n",
              "      </button>\n",
              "      \n",
              "  <style>\n",
              "    .colab-df-container {\n",
              "      display:flex;\n",
              "      flex-wrap:wrap;\n",
              "      gap: 12px;\n",
              "    }\n",
              "\n",
              "    .colab-df-convert {\n",
              "      background-color: #E8F0FE;\n",
              "      border: none;\n",
              "      border-radius: 50%;\n",
              "      cursor: pointer;\n",
              "      display: none;\n",
              "      fill: #1967D2;\n",
              "      height: 32px;\n",
              "      padding: 0 0 0 0;\n",
              "      width: 32px;\n",
              "    }\n",
              "\n",
              "    .colab-df-convert:hover {\n",
              "      background-color: #E2EBFA;\n",
              "      box-shadow: 0px 1px 2px rgba(60, 64, 67, 0.3), 0px 1px 3px 1px rgba(60, 64, 67, 0.15);\n",
              "      fill: #174EA6;\n",
              "    }\n",
              "\n",
              "    [theme=dark] .colab-df-convert {\n",
              "      background-color: #3B4455;\n",
              "      fill: #D2E3FC;\n",
              "    }\n",
              "\n",
              "    [theme=dark] .colab-df-convert:hover {\n",
              "      background-color: #434B5C;\n",
              "      box-shadow: 0px 1px 3px 1px rgba(0, 0, 0, 0.15);\n",
              "      filter: drop-shadow(0px 1px 2px rgba(0, 0, 0, 0.3));\n",
              "      fill: #FFFFFF;\n",
              "    }\n",
              "  </style>\n",
              "\n",
              "      <script>\n",
              "        const buttonEl =\n",
              "          document.querySelector('#df-fb6b4d9e-aa2a-43b7-a3f9-cd697566809a button.colab-df-convert');\n",
              "        buttonEl.style.display =\n",
              "          google.colab.kernel.accessAllowed ? 'block' : 'none';\n",
              "\n",
              "        async function convertToInteractive(key) {\n",
              "          const element = document.querySelector('#df-fb6b4d9e-aa2a-43b7-a3f9-cd697566809a');\n",
              "          const dataTable =\n",
              "            await google.colab.kernel.invokeFunction('convertToInteractive',\n",
              "                                                     [key], {});\n",
              "          if (!dataTable) return;\n",
              "\n",
              "          const docLinkHtml = 'Like what you see? Visit the ' +\n",
              "            '<a target=\"_blank\" href=https://colab.research.google.com/notebooks/data_table.ipynb>data table notebook</a>'\n",
              "            + ' to learn more about interactive tables.';\n",
              "          element.innerHTML = '';\n",
              "          dataTable['output_type'] = 'display_data';\n",
              "          await google.colab.output.renderOutput(dataTable, element);\n",
              "          const docLink = document.createElement('div');\n",
              "          docLink.innerHTML = docLinkHtml;\n",
              "          element.appendChild(docLink);\n",
              "        }\n",
              "      </script>\n",
              "    </div>\n",
              "  </div>\n",
              "  "
            ]
          },
          "metadata": {},
          "execution_count": 7
        }
      ]
    },
    {
      "cell_type": "code",
      "source": [
        "train_data_analysis.describe(include=[\"object\"])"
      ],
      "metadata": {
        "id": "KT9-G45HxLVr",
        "colab": {
          "base_uri": "https://localhost:8080/",
          "height": 175
        },
        "outputId": "19a6e116-eb0a-4d39-e010-0978d32ea256"
      },
      "execution_count": 8,
      "outputs": [
        {
          "output_type": "execute_result",
          "data": {
            "text/plain": [
              "        Gender Vehicle_Age Vehicle_Damage\n",
              "count   381109      381109         381109\n",
              "unique       2           3              2\n",
              "top       Male    1-2 Year            Yes\n",
              "freq    206089      200316         192413"
            ],
            "text/html": [
              "\n",
              "  <div id=\"df-473947bc-7529-4781-be00-bd267b561b4c\">\n",
              "    <div class=\"colab-df-container\">\n",
              "      <div>\n",
              "<style scoped>\n",
              "    .dataframe tbody tr th:only-of-type {\n",
              "        vertical-align: middle;\n",
              "    }\n",
              "\n",
              "    .dataframe tbody tr th {\n",
              "        vertical-align: top;\n",
              "    }\n",
              "\n",
              "    .dataframe thead th {\n",
              "        text-align: right;\n",
              "    }\n",
              "</style>\n",
              "<table border=\"1\" class=\"dataframe\">\n",
              "  <thead>\n",
              "    <tr style=\"text-align: right;\">\n",
              "      <th></th>\n",
              "      <th>Gender</th>\n",
              "      <th>Vehicle_Age</th>\n",
              "      <th>Vehicle_Damage</th>\n",
              "    </tr>\n",
              "  </thead>\n",
              "  <tbody>\n",
              "    <tr>\n",
              "      <th>count</th>\n",
              "      <td>381109</td>\n",
              "      <td>381109</td>\n",
              "      <td>381109</td>\n",
              "    </tr>\n",
              "    <tr>\n",
              "      <th>unique</th>\n",
              "      <td>2</td>\n",
              "      <td>3</td>\n",
              "      <td>2</td>\n",
              "    </tr>\n",
              "    <tr>\n",
              "      <th>top</th>\n",
              "      <td>Male</td>\n",
              "      <td>1-2 Year</td>\n",
              "      <td>Yes</td>\n",
              "    </tr>\n",
              "    <tr>\n",
              "      <th>freq</th>\n",
              "      <td>206089</td>\n",
              "      <td>200316</td>\n",
              "      <td>192413</td>\n",
              "    </tr>\n",
              "  </tbody>\n",
              "</table>\n",
              "</div>\n",
              "      <button class=\"colab-df-convert\" onclick=\"convertToInteractive('df-473947bc-7529-4781-be00-bd267b561b4c')\"\n",
              "              title=\"Convert this dataframe to an interactive table.\"\n",
              "              style=\"display:none;\">\n",
              "        \n",
              "  <svg xmlns=\"http://www.w3.org/2000/svg\" height=\"24px\"viewBox=\"0 0 24 24\"\n",
              "       width=\"24px\">\n",
              "    <path d=\"M0 0h24v24H0V0z\" fill=\"none\"/>\n",
              "    <path d=\"M18.56 5.44l.94 2.06.94-2.06 2.06-.94-2.06-.94-.94-2.06-.94 2.06-2.06.94zm-11 1L8.5 8.5l.94-2.06 2.06-.94-2.06-.94L8.5 2.5l-.94 2.06-2.06.94zm10 10l.94 2.06.94-2.06 2.06-.94-2.06-.94-.94-2.06-.94 2.06-2.06.94z\"/><path d=\"M17.41 7.96l-1.37-1.37c-.4-.4-.92-.59-1.43-.59-.52 0-1.04.2-1.43.59L10.3 9.45l-7.72 7.72c-.78.78-.78 2.05 0 2.83L4 21.41c.39.39.9.59 1.41.59.51 0 1.02-.2 1.41-.59l7.78-7.78 2.81-2.81c.8-.78.8-2.07 0-2.86zM5.41 20L4 18.59l7.72-7.72 1.47 1.35L5.41 20z\"/>\n",
              "  </svg>\n",
              "      </button>\n",
              "      \n",
              "  <style>\n",
              "    .colab-df-container {\n",
              "      display:flex;\n",
              "      flex-wrap:wrap;\n",
              "      gap: 12px;\n",
              "    }\n",
              "\n",
              "    .colab-df-convert {\n",
              "      background-color: #E8F0FE;\n",
              "      border: none;\n",
              "      border-radius: 50%;\n",
              "      cursor: pointer;\n",
              "      display: none;\n",
              "      fill: #1967D2;\n",
              "      height: 32px;\n",
              "      padding: 0 0 0 0;\n",
              "      width: 32px;\n",
              "    }\n",
              "\n",
              "    .colab-df-convert:hover {\n",
              "      background-color: #E2EBFA;\n",
              "      box-shadow: 0px 1px 2px rgba(60, 64, 67, 0.3), 0px 1px 3px 1px rgba(60, 64, 67, 0.15);\n",
              "      fill: #174EA6;\n",
              "    }\n",
              "\n",
              "    [theme=dark] .colab-df-convert {\n",
              "      background-color: #3B4455;\n",
              "      fill: #D2E3FC;\n",
              "    }\n",
              "\n",
              "    [theme=dark] .colab-df-convert:hover {\n",
              "      background-color: #434B5C;\n",
              "      box-shadow: 0px 1px 3px 1px rgba(0, 0, 0, 0.15);\n",
              "      filter: drop-shadow(0px 1px 2px rgba(0, 0, 0, 0.3));\n",
              "      fill: #FFFFFF;\n",
              "    }\n",
              "  </style>\n",
              "\n",
              "      <script>\n",
              "        const buttonEl =\n",
              "          document.querySelector('#df-473947bc-7529-4781-be00-bd267b561b4c button.colab-df-convert');\n",
              "        buttonEl.style.display =\n",
              "          google.colab.kernel.accessAllowed ? 'block' : 'none';\n",
              "\n",
              "        async function convertToInteractive(key) {\n",
              "          const element = document.querySelector('#df-473947bc-7529-4781-be00-bd267b561b4c');\n",
              "          const dataTable =\n",
              "            await google.colab.kernel.invokeFunction('convertToInteractive',\n",
              "                                                     [key], {});\n",
              "          if (!dataTable) return;\n",
              "\n",
              "          const docLinkHtml = 'Like what you see? Visit the ' +\n",
              "            '<a target=\"_blank\" href=https://colab.research.google.com/notebooks/data_table.ipynb>data table notebook</a>'\n",
              "            + ' to learn more about interactive tables.';\n",
              "          element.innerHTML = '';\n",
              "          dataTable['output_type'] = 'display_data';\n",
              "          await google.colab.output.renderOutput(dataTable, element);\n",
              "          const docLink = document.createElement('div');\n",
              "          docLink.innerHTML = docLinkHtml;\n",
              "          element.appendChild(docLink);\n",
              "        }\n",
              "      </script>\n",
              "    </div>\n",
              "  </div>\n",
              "  "
            ]
          },
          "metadata": {},
          "execution_count": 8
        }
      ]
    },
    {
      "cell_type": "markdown",
      "source": [
        "### **Check for imbalance in classes**\n"
      ],
      "metadata": {
        "id": "cFy42cLVEiY_"
      }
    },
    {
      "cell_type": "markdown",
      "source": [
        "The classes in the `Response` variable appear to be imbalanced. \n",
        "\n",
        "In fact, for each \"1\"(positive) observation, there are more than 7 \"0\"(negative) ones -> ***7(\"0\"):1(\"1\")*** "
      ],
      "metadata": {
        "id": "NV7l-6XluSCE"
      }
    },
    {
      "cell_type": "code",
      "source": [
        "def imbalance_class(df,series):\n",
        "  print(df[series].value_counts()/df.shape[0])\n",
        "  freq_0 = df[series].value_counts()[0]\n",
        "  freq_1 = df[series].value_counts()[1]\n",
        "  print(f\"The two classes have a ratio of: {freq_0/freq_1:.3}\")"
      ],
      "metadata": {
        "id": "qz5ZxNmcGhz3"
      },
      "execution_count": 9,
      "outputs": []
    },
    {
      "cell_type": "code",
      "source": [
        "imbalance_class(train_data_analysis,\"Response\")"
      ],
      "metadata": {
        "id": "K6eXRe5OpAUW",
        "colab": {
          "base_uri": "https://localhost:8080/"
        },
        "outputId": "4d566f14-59af-403d-acf8-0ffce492abaa"
      },
      "execution_count": 10,
      "outputs": [
        {
          "output_type": "stream",
          "name": "stdout",
          "text": [
            "0    0.877437\n",
            "1    0.122563\n",
            "Name: Response, dtype: float64\n",
            "The two classes have a ratio of: 7.16\n"
          ]
        }
      ]
    },
    {
      "cell_type": "code",
      "source": [
        "plt.figure(figsize=(8,6))\n",
        "sns.countplot(x=\"Response\",hue=\"Response\", data=train_data_analysis, dodge = False)         #dodge=False to properly align x-labels with bars\n",
        "plt.title(\"People not intersted in Vehicle Assurance vs People Intersted\")\n",
        "plt.show()"
      ],
      "metadata": {
        "id": "P_TBrilE9XT9",
        "colab": {
          "base_uri": "https://localhost:8080/",
          "height": 404
        },
        "outputId": "5390b1b0-b6b2-4671-f722-65a85e444a5c"
      },
      "execution_count": 11,
      "outputs": [
        {
          "output_type": "display_data",
          "data": {
            "text/plain": [
              "<Figure size 576x432 with 1 Axes>"
            ],
            "image/png": "[encoded data removed]"
          },
          "metadata": {
            "needs_background": "light"
          }
        }
      ]
    },
    {
      "cell_type": "markdown",
      "source": [
        "`Gender`, `Previously_Insured` and `Vehicle_Damage` don't appear to be imbalanced"
      ],
      "metadata": {
        "id": "e8tXkpV0E35K"
      }
    },
    {
      "cell_type": "code",
      "source": [
        "imbalance_class(train_data_analysis,\"Gender\")"
      ],
      "metadata": {
        "id": "0w-LncL10w0R",
        "colab": {
          "base_uri": "https://localhost:8080/"
        },
        "outputId": "b1f455b7-046c-4a42-bad7-80a5cd8f9388"
      },
      "execution_count": 12,
      "outputs": [
        {
          "output_type": "stream",
          "name": "stdout",
          "text": [
            "Male      0.540761\n",
            "Female    0.459239\n",
            "Name: Gender, dtype: float64\n",
            "The two classes have a ratio of: 1.18\n"
          ]
        }
      ]
    },
    {
      "cell_type": "code",
      "source": [
        "imbalance_class(train_data_analysis,\"Previously_Insured\")"
      ],
      "metadata": {
        "id": "6rg-zlBmaUMm",
        "colab": {
          "base_uri": "https://localhost:8080/"
        },
        "outputId": "8713571e-a463-4379-816c-1bd27ab9ea84"
      },
      "execution_count": 13,
      "outputs": [
        {
          "output_type": "stream",
          "name": "stdout",
          "text": [
            "0    0.54179\n",
            "1    0.45821\n",
            "Name: Previously_Insured, dtype: float64\n",
            "The two classes have a ratio of: 1.18\n"
          ]
        }
      ]
    },
    {
      "cell_type": "code",
      "source": [
        "imbalance_class(train_data_analysis,\"Vehicle_Damage\")"
      ],
      "metadata": {
        "id": "BPJZXcZsahB1",
        "colab": {
          "base_uri": "https://localhost:8080/"
        },
        "outputId": "8f79c865-8b09-49e9-c808-a10f560d7c0f"
      },
      "execution_count": 14,
      "outputs": [
        {
          "output_type": "stream",
          "name": "stdout",
          "text": [
            "Yes    0.504877\n",
            "No     0.495123\n",
            "Name: Vehicle_Damage, dtype: float64\n",
            "The two classes have a ratio of: 1.02\n"
          ]
        }
      ]
    },
    {
      "cell_type": "markdown",
      "source": [
        "`Driving_License` appear to be imbalanced with a ratio of 468(\"1\"):1(\"0\").\n",
        "\n",
        "This should not be problematic anyway."
      ],
      "metadata": {
        "id": "0owGot4HGn-q"
      }
    },
    {
      "cell_type": "code",
      "source": [
        "imbalance_class(train_data_analysis,\"Driving_License\")"
      ],
      "metadata": {
        "id": "lwCsSHWKFDUM",
        "colab": {
          "base_uri": "https://localhost:8080/"
        },
        "outputId": "92066404-e058-41f7-9154-6d4db1d2ebe3"
      },
      "execution_count": 15,
      "outputs": [
        {
          "output_type": "stream",
          "name": "stdout",
          "text": [
            "1    0.997869\n",
            "0    0.002131\n",
            "Name: Driving_License, dtype: float64\n",
            "The two classes have a ratio of: 0.00214\n"
          ]
        }
      ]
    },
    {
      "cell_type": "markdown",
      "source": [
        "## **2.2 Bivariate Analysis**"
      ],
      "metadata": {
        "id": "x-8C0xD_DGJ2"
      }
    },
    {
      "cell_type": "markdown",
      "source": [
        "### **Quantitative Variables**"
      ],
      "metadata": {
        "id": "--DEL5C07cWV"
      }
    },
    {
      "cell_type": "markdown",
      "source": [
        "`Age` "
      ],
      "metadata": {
        "id": "IEYmrfpV9yZz"
      }
    },
    {
      "cell_type": "code",
      "source": [
        "age_not_intersted = train_data_analysis.query(\"Response == 0\")[\"Age\"]\n",
        "age_intersted = train_data_analysis.query(\"Response == 1\")[\"Age\"]\n",
        "\n",
        "plt.figure(figsize=(9,6))\n",
        "sns.kdeplot(data=age_intersted,label=\"Intersted\",multiple='stack')\n",
        "sns.kdeplot(data=age_not_intersted,label=\"Not Intersted\",multiple='stack')\n",
        "plt.legend(fontsize=20)\n",
        "plt.show()"
      ],
      "metadata": {
        "colab": {
          "base_uri": "https://localhost:8080/",
          "height": 388
        },
        "id": "TvYHj0U6ighW",
        "outputId": "b268a5a7-3c87-4892-cef6-81311c890486"
      },
      "execution_count": 16,
      "outputs": [
        {
          "output_type": "display_data",
          "data": {
            "text/plain": [
              "<Figure size 648x432 with 1 Axes>"
            ],
            "image/png": "[encoded data removed]"
          },
          "metadata": {
            "needs_background": "light"
          }
        }
      ]
    },
    {
      "cell_type": "code",
      "source": [
        "bins=[18, 25, 40, 62, 85]\n",
        "labels=['Millenials(18-25)', 'Generation X(25-40)', 'Boomers(40-62)', 'Seniors(62-85)']\n",
        "biva1 = pd.cut(train_data_analysis.Age, bins=bins, labels=labels)\n",
        "\n",
        "train_data_analysis_resp_encod = train_data_analysis.copy()\n",
        "Response = {0:\"Not Intersted\", 1:\"Intersted\"}\n",
        "train_data_analysis_resp_encod.Response = train_data_analysis_resp_encod.Response.map(Response)\n",
        "\n",
        "plt.figure(figsize=(8,6.5))\n",
        "sns.countplot(x=biva1, data=train_data_analysis_resp_encod, hue='Response', palette='hls')\n",
        "plt.ylim(0,120000)\n",
        "plt.yticks(np.arange(0,130000,10000))\n",
        "plt.show()"
      ],
      "metadata": {
        "colab": {
          "base_uri": "https://localhost:8080/",
          "height": 419
        },
        "id": "PEpAiNlkEbnp",
        "outputId": "c0301ae5-6197-400e-b914-18bbe9ea6c87"
      },
      "execution_count": 17,
      "outputs": [
        {
          "output_type": "display_data",
          "data": {
            "text/plain": [
              "<Figure size 576x468 with 1 Axes>"
            ],
            "image/png": "[encoded data removed]"
          },
          "metadata": {
            "needs_background": "light"
          }
        }
      ]
    },
    {
      "cell_type": "markdown",
      "source": [
        "Now let's create a countplot with a cut-off of >=40 years old"
      ],
      "metadata": {
        "id": "FfPRjMmPVOtb"
      }
    },
    {
      "cell_type": "code",
      "source": [
        "bins_young_old=[20, 40, 85]\n",
        "labels_young_old=['Young(20-40)', 'Old(40-85)']\n",
        "biva_age_old_young = pd.cut(train_data_analysis.query(\"Response==1\")[\"Age\"], bins=bins_young_old, labels=labels_young_old)\n",
        "plt.figure(figsize=(8,6.5))\n",
        "sns.countplot(x=biva_age_old_young, data=train_data_analysis)\n",
        "plt.ylim(0,30000,5000)\n",
        "plt.show()"
      ],
      "metadata": {
        "id": "eldywOy4VM6z",
        "colab": {
          "base_uri": "https://localhost:8080/",
          "height": 419
        },
        "outputId": "d50a46b2-0814-46ad-d598-67fe1e0a0aae"
      },
      "execution_count": 18,
      "outputs": [
        {
          "output_type": "display_data",
          "data": {
            "text/plain": [
              "<Figure size 576x468 with 1 Axes>"
            ],
            "image/png": "[encoded data removed]"
          },
          "metadata": {
            "needs_background": "light"
          }
        }
      ]
    },
    {
      "cell_type": "markdown",
      "source": [
        "Old people seem to be more intersted in buying a car insurance.\n",
        "This makes perfect sense given that the older one is the more likely is to own a car and to have to money to afford an insurance.\n",
        "\n",
        "Anyway, we'll now check the significance of this relationship with a chi-square test."
      ],
      "metadata": {
        "id": "_7H0feyUWQCU"
      }
    },
    {
      "cell_type": "code",
      "source": [
        "biva_chi_age_old = pd.cut(train_data_analysis[\"Age\"], bins=bins_young_old, labels=labels_young_old)\n",
        "train_data_analysis_1 = train_data_analysis.copy()\n",
        "train_data_analysis_1.Age = biva_chi_age_old"
      ],
      "metadata": {
        "id": "DuotjpuvZRgF"
      },
      "execution_count": 19,
      "outputs": []
    },
    {
      "cell_type": "code",
      "source": [
        "contingency_age = pd.crosstab(train_data_analysis_1.Age, train_data_analysis_1.Response, margins=True)"
      ],
      "metadata": {
        "id": "Y-a4RBl_auuw"
      },
      "execution_count": 20,
      "outputs": []
    },
    {
      "cell_type": "code",
      "source": [
        "value_age = np.array([contingency_age.iloc[0].values,\n",
        "                  contingency_age.iloc[1].values])"
      ],
      "metadata": {
        "id": "YFyzdZ0pbbGD"
      },
      "execution_count": 21,
      "outputs": []
    },
    {
      "cell_type": "code",
      "source": [
        "chi2_age = chi2_contingency(value_age)\n",
        "print(f\"The p-value is {chi2_age[1]}, elder people are significantly more intersted in car insurance\")"
      ],
      "metadata": {
        "id": "8wgZcx0iYPVR",
        "colab": {
          "base_uri": "https://localhost:8080/"
        },
        "outputId": "26cf3c04-c172-425f-c753-08cf257e3bde"
      },
      "execution_count": 22,
      "outputs": [
        {
          "output_type": "stream",
          "name": "stdout",
          "text": [
            "The p-value is 0.0, elder people are significantly more intersted in car insurance\n"
          ]
        }
      ]
    },
    {
      "cell_type": "markdown",
      "source": [
        "### **Qualitative Variables**"
      ],
      "metadata": {
        "id": "WXNnxUQx-R47"
      }
    },
    {
      "cell_type": "markdown",
      "source": [
        "`Gender`"
      ],
      "metadata": {
        "id": "HuhqPHFe-x41"
      }
    },
    {
      "cell_type": "code",
      "source": [
        "plt.figure(figsize=(6,8))\n",
        "\n",
        "plt.subplot(2,1,1)\n",
        "plt.title(\"Male vs Female\")\n",
        "sns.countplot(x=\"Gender\", data=train_data_analysis_resp_encod, hue='Response', palette='hls')\n",
        "plt.xlabel(xlabel=None)\n",
        "\n",
        "plt.subplot(2,1,2)\n",
        "plt.title(\"Intersted: Male vs Female\")\n",
        "sns.countplot(x=\"Gender\", data=train_data_analysis.query(\"Response==1\"))\n",
        "\n",
        "plt.show()"
      ],
      "metadata": {
        "id": "6WLRpqwnnhZ5",
        "colab": {
          "base_uri": "https://localhost:8080/",
          "height": 513
        },
        "outputId": "802a5ffa-6b43-41c1-a0fc-10b8daaae38b"
      },
      "execution_count": 23,
      "outputs": [
        {
          "output_type": "display_data",
          "data": {
            "text/plain": [
              "<Figure size 432x576 with 2 Axes>"
            ],
            "image/png": "[encoded data removed]"
          },
          "metadata": {
            "needs_background": "light"
          }
        }
      ]
    },
    {
      "cell_type": "markdown",
      "source": [
        "Males seem to be more intersted in buying a car insurance.\n",
        "\n",
        "Let's test the significance of the difference with chi squared test."
      ],
      "metadata": {
        "id": "oCU4Rh9Qr8t3"
      }
    },
    {
      "cell_type": "code",
      "source": [
        "contingency_gender = pd.crosstab(train_data_analysis_1.Gender, train_data_analysis_1.Response, margins=True)"
      ],
      "metadata": {
        "id": "QEQVkocYr8I1"
      },
      "execution_count": 24,
      "outputs": []
    },
    {
      "cell_type": "code",
      "source": [
        "value_gender = np.array([contingency_gender.iloc[0].values,\n",
        "                  contingency_gender.iloc[1].values])"
      ],
      "metadata": {
        "id": "FmD2bnuRsWG4"
      },
      "execution_count": 25,
      "outputs": []
    },
    {
      "cell_type": "code",
      "source": [
        "chi2_age = chi2_contingency(value_gender)\n",
        "print(f\"The p-value is {chi2_age[1]:.1}, males are significantly more intersted in car insurance\")"
      ],
      "metadata": {
        "id": "07IwgjYBsjSg",
        "colab": {
          "base_uri": "https://localhost:8080/"
        },
        "outputId": "795ab5c6-cd85-41d9-c701-4b0fb6edfb2d"
      },
      "execution_count": 26,
      "outputs": [
        {
          "output_type": "stream",
          "name": "stdout",
          "text": [
            "The p-value is 3e-228, males are significantly more intersted in car insurance\n"
          ]
        }
      ]
    },
    {
      "cell_type": "markdown",
      "source": [
        "`Vehicle_Damage`"
      ],
      "metadata": {
        "id": "N2AzjCxZ_Dgz"
      }
    },
    {
      "cell_type": "code",
      "source": [
        "plt.figure(figsize=(6,5))\n",
        "sns.countplot(x=\"Vehicle_Damage\", data=train_data_analysis_resp_encod, hue='Response', palette='hls')\n",
        "plt.show()"
      ],
      "metadata": {
        "colab": {
          "base_uri": "https://localhost:8080/",
          "height": 335
        },
        "id": "yEful9AywYM1",
        "outputId": "50f96e61-73d2-4107-9c3e-edbcad6d0f7f"
      },
      "execution_count": 27,
      "outputs": [
        {
          "output_type": "display_data",
          "data": {
            "text/plain": [
              "<Figure size 432x360 with 1 Axes>"
            ],
            "image/png": "[encoded data removed]"
          },
          "metadata": {
            "needs_background": "light"
          }
        }
      ]
    },
    {
      "cell_type": "markdown",
      "source": [
        "There's a massive difference between the two groups. People who had their vehicle previously damaged are clearly more intersted in buying a car insurance.\n",
        "\n",
        "As the difference appears to be huge, we're not gonna check its significance this time."
      ],
      "metadata": {
        "id": "6hqDHFLHwzhO"
      }
    },
    {
      "cell_type": "markdown",
      "source": [
        "`Vehicle_Age`"
      ],
      "metadata": {
        "id": "Jk7H7UEl_ILM"
      }
    },
    {
      "cell_type": "code",
      "source": [
        "plt.figure(figsize=(6,8))\n",
        "\n",
        "plt.subplot(2,1,1)\n",
        "plt.title(\"Interest by Vehicle Age\")\n",
        "sns.countplot(x=\"Vehicle_Age\", data=train_data_analysis_resp_encod, hue='Response', palette='hls')\n",
        "plt.xlabel(xlabel=None)\n",
        "\n",
        "plt.subplot(2,1,2)\n",
        "plt.title(\"Only Intersted by Vehicle Age\")\n",
        "sns.countplot(x=\"Vehicle_Age\",data=train_data_analysis.loc[train_data_analysis.Response==1])\n",
        "plt.show()"
      ],
      "metadata": {
        "colab": {
          "base_uri": "https://localhost:8080/",
          "height": 514
        },
        "id": "QQthK44ywYmt",
        "outputId": "ef988daf-daec-4f50-b7ad-f8849359900f"
      },
      "execution_count": 28,
      "outputs": [
        {
          "output_type": "display_data",
          "data": {
            "text/plain": [
              "<Figure size 432x576 with 2 Axes>"
            ],
            "image/png": "[encoded data removed]"
          },
          "metadata": {
            "needs_background": "light"
          }
        }
      ]
    },
    {
      "cell_type": "markdown",
      "source": [
        "The class that appears to be the most intersted it's `< 1 Year`, but `1-2 Year`.\n",
        "\n",
        "Once again, the difference is so big that testing its significance would rather pointless."
      ],
      "metadata": {
        "id": "3mkfRBLu05wv"
      }
    },
    {
      "cell_type": "markdown",
      "source": [
        "## **2.3 Multivariate Analysis**"
      ],
      "metadata": {
        "id": "FTqjgGrYG8IO"
      }
    },
    {
      "cell_type": "markdown",
      "source": [
        "### **Correlation among quantitative variables**"
      ],
      "metadata": {
        "id": "-6l9ZOqB2tW1"
      }
    },
    {
      "cell_type": "code",
      "source": [
        "plt.figure(figsize=(8,8))\n",
        "sns.heatmap(train_data_analysis.corr(),annot=True)\n",
        "plt.show()"
      ],
      "metadata": {
        "id": "P3NdJTes8tYX",
        "colab": {
          "base_uri": "https://localhost:8080/",
          "height": 583
        },
        "outputId": "1c012781-7a23-4773-dbc6-0cafbda58704"
      },
      "execution_count": 29,
      "outputs": [
        {
          "output_type": "display_data",
          "data": {
            "text/plain": [
              "<Figure size 576x576 with 2 Axes>"
            ],
            "image/png": "[encoded data removed]"
          },
          "metadata": {
            "needs_background": "light"
          }
        }
      ]
    },
    {
      "cell_type": "markdown",
      "source": [
        "### **Correlation among qualitative variables**"
      ],
      "metadata": {
        "id": "GJIWRvmd22me"
      }
    },
    {
      "cell_type": "code",
      "source": [
        "qual_variables = train_data_analysis.select_dtypes(include=\"object\")"
      ],
      "metadata": {
        "id": "zzcIFiTc24Yp"
      },
      "execution_count": 30,
      "outputs": []
    },
    {
      "cell_type": "markdown",
      "source": [
        "**Creating a function to calculate Cramer's V to measure correlation between categorical variables**\n",
        "\n",
        "I'm not the author of the function, in fact I took the code at the following link: https://stackoverflow.com/questions/20892799/using-pandas-calculate-cram%C3%A9rs-coefficient-matrix"
      ],
      "metadata": {
        "id": "q8MeBJ79PsYN"
      }
    },
    {
      "cell_type": "code",
      "source": [
        "def cramers_corrected_stat(confusion_matrix):\n",
        "    \"\"\" calculate Cramers V statistic for categorical-categorical association.\n",
        "        uses correction from Bergsma and Wicher, \n",
        "        Journal of the Korean Statistical Society 42 (2013): 323-328\n",
        "    \"\"\"\n",
        "    chi2 = ss.stats.chi2_contingency(confusion_matrix)[0]\n",
        "    n = confusion_matrix.sum().sum()\n",
        "    phi2 = chi2/n\n",
        "    r,k = confusion_matrix.shape\n",
        "    phi2corr = max(0, phi2 - ((k-1)*(r-1))/(n-1))    \n",
        "    rcorr = r - ((r-1)**2)/(n-1)\n",
        "    kcorr = k - ((k-1)**2)/(n-1)\n",
        "    return round(np.sqrt(phi2corr / min( (kcorr-1), (rcorr-1))),2)"
      ],
      "metadata": {
        "id": "1oewySaSFT3U"
      },
      "execution_count": 31,
      "outputs": []
    },
    {
      "cell_type": "markdown",
      "source": [
        "**Creating confusion matrices**"
      ],
      "metadata": {
        "id": "N4jW4zmvQXAa"
      }
    },
    {
      "cell_type": "code",
      "source": [
        "Gender_V_age = pd.crosstab(qual_variables.Gender,qual_variables.Vehicle_Age)\n",
        "Gender_V_dam = pd.crosstab(qual_variables.Gender,qual_variables.Vehicle_Damage)\n",
        "Veh_age_damage = pd.crosstab(qual_variables.Vehicle_Age,qual_variables.Vehicle_Damage)"
      ],
      "metadata": {
        "id": "ZJV59JXXBWev"
      },
      "execution_count": 32,
      "outputs": []
    },
    {
      "cell_type": "markdown",
      "source": [
        "**Calculating cramer's V for each variable**"
      ],
      "metadata": {
        "id": "IqV6vNJ-QasG"
      }
    },
    {
      "cell_type": "code",
      "source": [
        "cramer_gen_Vage = cramers_corrected_stat(Gender_V_age)\n",
        "cramer_gen_damage = cramers_corrected_stat(Gender_V_dam)\n",
        "cramer_age_damage = cramers_corrected_stat(Veh_age_damage)"
      ],
      "metadata": {
        "id": "H_YXzEhrIdpC"
      },
      "execution_count": 33,
      "outputs": []
    },
    {
      "cell_type": "code",
      "source": [
        "cramer_df = pd.DataFrame({\n",
        "    \"gender\": [1, cramer_gen_Vage,cramer_gen_damage],\n",
        "    \"Vehicle_Age\": [cramer_gen_Vage,1,cramer_age_damage],\n",
        "    \"Vehicle_Damage\": [cramer_gen_damage,cramer_age_damage,1]\n",
        "}, index=[\"gender\",\"Vehicle_Age\",\"Vehicle_Damage\"])"
      ],
      "metadata": {
        "id": "Qq3ZIyr_MwIv"
      },
      "execution_count": 34,
      "outputs": []
    },
    {
      "cell_type": "markdown",
      "source": [
        "**Finally, we create a heatmap to show the correlations among the variables**"
      ],
      "metadata": {
        "id": "0haP585hQkVc"
      }
    },
    {
      "cell_type": "code",
      "source": [
        "plt.figure(figsize=(10,7))\n",
        "sns.heatmap(cramer_df,annot=True)\n",
        "plt.show()"
      ],
      "metadata": {
        "colab": {
          "base_uri": "https://localhost:8080/",
          "height": 433
        },
        "id": "NKjtd8d7O3ZI",
        "outputId": "7650f842-2d51-41b9-aa43-28cc7acef3ef"
      },
      "execution_count": 35,
      "outputs": [
        {
          "output_type": "display_data",
          "data": {
            "text/plain": [
              "<Figure size 720x504 with 2 Axes>"
            ],
            "image/png": "[encoded data removed]"
          },
          "metadata": {
            "needs_background": "light"
          }
        }
      ]
    },
    {
      "cell_type": "markdown",
      "source": [
        "# **3. Data Preparation**\n",
        "[Take me to Outline](#scrollTo=fLKKpiJRSEp-&line=5&uniqifier=1)"
      ],
      "metadata": {
        "id": "5-KT_5gtb16L"
      }
    },
    {
      "cell_type": "code",
      "source": [
        "train_1 = train.copy()"
      ],
      "metadata": {
        "id": "sH22RKbwHNwH"
      },
      "execution_count": 36,
      "outputs": []
    },
    {
      "cell_type": "code",
      "source": [
        "train_1"
      ],
      "metadata": {
        "colab": {
          "base_uri": "https://localhost:8080/",
          "height": 488
        },
        "id": "6w4pwSgDJiyN",
        "outputId": "9f17f883-4b9d-4a0b-a440-2c2b5a8d5b4d"
      },
      "execution_count": 37,
      "outputs": [
        {
          "output_type": "execute_result",
          "data": {
            "text/plain": [
              "            id  Gender  Age  Driving_License  Region_Code  Previously_Insured  \\\n",
              "0            1    Male   44                1         28.0                   0   \n",
              "1            2    Male   76                1          3.0                   0   \n",
              "2            3    Male   47                1         28.0                   0   \n",
              "3            4    Male   21                1         11.0                   1   \n",
              "4            5  Female   29                1         41.0                   1   \n",
              "...        ...     ...  ...              ...          ...                 ...   \n",
              "381104  381105    Male   74                1         26.0                   1   \n",
              "381105  381106    Male   30                1         37.0                   1   \n",
              "381106  381107    Male   21                1         30.0                   1   \n",
              "381107  381108  Female   68                1         14.0                   0   \n",
              "381108  381109    Male   46                1         29.0                   0   \n",
              "\n",
              "       Vehicle_Age Vehicle_Damage  Annual_Premium  Policy_Sales_Channel  \\\n",
              "0        > 2 Years            Yes         40454.0                  26.0   \n",
              "1         1-2 Year             No         33536.0                  26.0   \n",
              "2        > 2 Years            Yes         38294.0                  26.0   \n",
              "3         < 1 Year             No         28619.0                 152.0   \n",
              "4         < 1 Year             No         27496.0                 152.0   \n",
              "...            ...            ...             ...                   ...   \n",
              "381104    1-2 Year             No         30170.0                  26.0   \n",
              "381105    < 1 Year             No         40016.0                 152.0   \n",
              "381106    < 1 Year             No         35118.0                 160.0   \n",
              "381107   > 2 Years            Yes         44617.0                 124.0   \n",
              "381108    1-2 Year             No         41777.0                  26.0   \n",
              "\n",
              "        Vintage  Response  \n",
              "0           217         1  \n",
              "1           183         0  \n",
              "2            27         1  \n",
              "3           203         0  \n",
              "4            39         0  \n",
              "...         ...       ...  \n",
              "381104       88         0  \n",
              "381105      131         0  \n",
              "381106      161         0  \n",
              "381107       74         0  \n",
              "381108      237         0  \n",
              "\n",
              "[381109 rows x 12 columns]"
            ],
            "text/html": [
              "\n",
              "  <div id=\"df-3689ff62-73aa-4e48-bb78-ae6cd2f9cff7\">\n",
              "    <div class=\"colab-df-container\">\n",
              "      <div>\n",
              "<style scoped>\n",
              "    .dataframe tbody tr th:only-of-type {\n",
              "        vertical-align: middle;\n",
              "    }\n",
              "\n",
              "    .dataframe tbody tr th {\n",
              "        vertical-align: top;\n",
              "    }\n",
              "\n",
              "    .dataframe thead th {\n",
              "        text-align: right;\n",
              "    }\n",
              "</style>\n",
              "<table border=\"1\" class=\"dataframe\">\n",
              "  <thead>\n",
              "    <tr style=\"text-align: right;\">\n",
              "      <th></th>\n",
              "      <th>id</th>\n",
              "      <th>Gender</th>\n",
              "      <th>Age</th>\n",
              "      <th>Driving_License</th>\n",
              "      <th>Region_Code</th>\n",
              "      <th>Previously_Insured</th>\n",
              "      <th>Vehicle_Age</th>\n",
              "      <th>Vehicle_Damage</th>\n",
              "      <th>Annual_Premium</th>\n",
              "      <th>Policy_Sales_Channel</th>\n",
              "      <th>Vintage</th>\n",
              "      <th>Response</th>\n",
              "    </tr>\n",
              "  </thead>\n",
              "  <tbody>\n",
              "    <tr>\n",
              "      <th>0</th>\n",
              "      <td>1</td>\n",
              "      <td>Male</td>\n",
              "      <td>44</td>\n",
              "      <td>1</td>\n",
              "      <td>28.0</td>\n",
              "      <td>0</td>\n",
              "      <td>&gt; 2 Years</td>\n",
              "      <td>Yes</td>\n",
              "      <td>40454.0</td>\n",
              "      <td>26.0</td>\n",
              "      <td>217</td>\n",
              "      <td>1</td>\n",
              "    </tr>\n",
              "    <tr>\n",
              "      <th>1</th>\n",
              "      <td>2</td>\n",
              "      <td>Male</td>\n",
              "      <td>76</td>\n",
              "      <td>1</td>\n",
              "      <td>3.0</td>\n",
              "      <td>0</td>\n",
              "      <td>1-2 Year</td>\n",
              "      <td>No</td>\n",
              "      <td>33536.0</td>\n",
              "      <td>26.0</td>\n",
              "      <td>183</td>\n",
              "      <td>0</td>\n",
              "    </tr>\n",
              "    <tr>\n",
              "      <th>2</th>\n",
              "      <td>3</td>\n",
              "      <td>Male</td>\n",
              "      <td>47</td>\n",
              "      <td>1</td>\n",
              "      <td>28.0</td>\n",
              "      <td>0</td>\n",
              "      <td>&gt; 2 Years</td>\n",
              "      <td>Yes</td>\n",
              "      <td>38294.0</td>\n",
              "      <td>26.0</td>\n",
              "      <td>27</td>\n",
              "      <td>1</td>\n",
              "    </tr>\n",
              "    <tr>\n",
              "      <th>3</th>\n",
              "      <td>4</td>\n",
              "      <td>Male</td>\n",
              "      <td>21</td>\n",
              "      <td>1</td>\n",
              "      <td>11.0</td>\n",
              "      <td>1</td>\n",
              "      <td>&lt; 1 Year</td>\n",
              "      <td>No</td>\n",
              "      <td>28619.0</td>\n",
              "      <td>152.0</td>\n",
              "      <td>203</td>\n",
              "      <td>0</td>\n",
              "    </tr>\n",
              "    <tr>\n",
              "      <th>4</th>\n",
              "      <td>5</td>\n",
              "      <td>Female</td>\n",
              "      <td>29</td>\n",
              "      <td>1</td>\n",
              "      <td>41.0</td>\n",
              "      <td>1</td>\n",
              "      <td>&lt; 1 Year</td>\n",
              "      <td>No</td>\n",
              "      <td>27496.0</td>\n",
              "      <td>152.0</td>\n",
              "      <td>39</td>\n",
              "      <td>0</td>\n",
              "    </tr>\n",
              "    <tr>\n",
              "      <th>...</th>\n",
              "      <td>...</td>\n",
              "      <td>...</td>\n",
              "      <td>...</td>\n",
              "      <td>...</td>\n",
              "      <td>...</td>\n",
              "      <td>...</td>\n",
              "      <td>...</td>\n",
              "      <td>...</td>\n",
              "      <td>...</td>\n",
              "      <td>...</td>\n",
              "      <td>...</td>\n",
              "      <td>...</td>\n",
              "    </tr>\n",
              "    <tr>\n",
              "      <th>381104</th>\n",
              "      <td>381105</td>\n",
              "      <td>Male</td>\n",
              "      <td>74</td>\n",
              "      <td>1</td>\n",
              "      <td>26.0</td>\n",
              "      <td>1</td>\n",
              "      <td>1-2 Year</td>\n",
              "      <td>No</td>\n",
              "      <td>30170.0</td>\n",
              "      <td>26.0</td>\n",
              "      <td>88</td>\n",
              "      <td>0</td>\n",
              "    </tr>\n",
              "    <tr>\n",
              "      <th>381105</th>\n",
              "      <td>381106</td>\n",
              "      <td>Male</td>\n",
              "      <td>30</td>\n",
              "      <td>1</td>\n",
              "      <td>37.0</td>\n",
              "      <td>1</td>\n",
              "      <td>&lt; 1 Year</td>\n",
              "      <td>No</td>\n",
              "      <td>40016.0</td>\n",
              "      <td>152.0</td>\n",
              "      <td>131</td>\n",
              "      <td>0</td>\n",
              "    </tr>\n",
              "    <tr>\n",
              "      <th>381106</th>\n",
              "      <td>381107</td>\n",
              "      <td>Male</td>\n",
              "      <td>21</td>\n",
              "      <td>1</td>\n",
              "      <td>30.0</td>\n",
              "      <td>1</td>\n",
              "      <td>&lt; 1 Year</td>\n",
              "      <td>No</td>\n",
              "      <td>35118.0</td>\n",
              "      <td>160.0</td>\n",
              "      <td>161</td>\n",
              "      <td>0</td>\n",
              "    </tr>\n",
              "    <tr>\n",
              "      <th>381107</th>\n",
              "      <td>381108</td>\n",
              "      <td>Female</td>\n",
              "      <td>68</td>\n",
              "      <td>1</td>\n",
              "      <td>14.0</td>\n",
              "      <td>0</td>\n",
              "      <td>&gt; 2 Years</td>\n",
              "      <td>Yes</td>\n",
              "      <td>44617.0</td>\n",
              "      <td>124.0</td>\n",
              "      <td>74</td>\n",
              "      <td>0</td>\n",
              "    </tr>\n",
              "    <tr>\n",
              "      <th>381108</th>\n",
              "      <td>381109</td>\n",
              "      <td>Male</td>\n",
              "      <td>46</td>\n",
              "      <td>1</td>\n",
              "      <td>29.0</td>\n",
              "      <td>0</td>\n",
              "      <td>1-2 Year</td>\n",
              "      <td>No</td>\n",
              "      <td>41777.0</td>\n",
              "      <td>26.0</td>\n",
              "      <td>237</td>\n",
              "      <td>0</td>\n",
              "    </tr>\n",
              "  </tbody>\n",
              "</table>\n",
              "<p>381109 rows × 12 columns</p>\n",
              "</div>\n",
              "      <button class=\"colab-df-convert\" onclick=\"convertToInteractive('df-3689ff62-73aa-4e48-bb78-ae6cd2f9cff7')\"\n",
              "              title=\"Convert this dataframe to an interactive table.\"\n",
              "              style=\"display:none;\">\n",
              "        \n",
              "  <svg xmlns=\"http://www.w3.org/2000/svg\" height=\"24px\"viewBox=\"0 0 24 24\"\n",
              "       width=\"24px\">\n",
              "    <path d=\"M0 0h24v24H0V0z\" fill=\"none\"/>\n",
              "    <path d=\"M18.56 5.44l.94 2.06.94-2.06 2.06-.94-2.06-.94-.94-2.06-.94 2.06-2.06.94zm-11 1L8.5 8.5l.94-2.06 2.06-.94-2.06-.94L8.5 2.5l-.94 2.06-2.06.94zm10 10l.94 2.06.94-2.06 2.06-.94-2.06-.94-.94-2.06-.94 2.06-2.06.94z\"/><path d=\"M17.41 7.96l-1.37-1.37c-.4-.4-.92-.59-1.43-.59-.52 0-1.04.2-1.43.59L10.3 9.45l-7.72 7.72c-.78.78-.78 2.05 0 2.83L4 21.41c.39.39.9.59 1.41.59.51 0 1.02-.2 1.41-.59l7.78-7.78 2.81-2.81c.8-.78.8-2.07 0-2.86zM5.41 20L4 18.59l7.72-7.72 1.47 1.35L5.41 20z\"/>\n",
              "  </svg>\n",
              "      </button>\n",
              "      \n",
              "  <style>\n",
              "    .colab-df-container {\n",
              "      display:flex;\n",
              "      flex-wrap:wrap;\n",
              "      gap: 12px;\n",
              "    }\n",
              "\n",
              "    .colab-df-convert {\n",
              "      background-color: #E8F0FE;\n",
              "      border: none;\n",
              "      border-radius: 50%;\n",
              "      cursor: pointer;\n",
              "      display: none;\n",
              "      fill: #1967D2;\n",
              "      height: 32px;\n",
              "      padding: 0 0 0 0;\n",
              "      width: 32px;\n",
              "    }\n",
              "\n",
              "    .colab-df-convert:hover {\n",
              "      background-color: #E2EBFA;\n",
              "      box-shadow: 0px 1px 2px rgba(60, 64, 67, 0.3), 0px 1px 3px 1px rgba(60, 64, 67, 0.15);\n",
              "      fill: #174EA6;\n",
              "    }\n",
              "\n",
              "    [theme=dark] .colab-df-convert {\n",
              "      background-color: #3B4455;\n",
              "      fill: #D2E3FC;\n",
              "    }\n",
              "\n",
              "    [theme=dark] .colab-df-convert:hover {\n",
              "      background-color: #434B5C;\n",
              "      box-shadow: 0px 1px 3px 1px rgba(0, 0, 0, 0.15);\n",
              "      filter: drop-shadow(0px 1px 2px rgba(0, 0, 0, 0.3));\n",
              "      fill: #FFFFFF;\n",
              "    }\n",
              "  </style>\n",
              "\n",
              "      <script>\n",
              "        const buttonEl =\n",
              "          document.querySelector('#df-3689ff62-73aa-4e48-bb78-ae6cd2f9cff7 button.colab-df-convert');\n",
              "        buttonEl.style.display =\n",
              "          google.colab.kernel.accessAllowed ? 'block' : 'none';\n",
              "\n",
              "        async function convertToInteractive(key) {\n",
              "          const element = document.querySelector('#df-3689ff62-73aa-4e48-bb78-ae6cd2f9cff7');\n",
              "          const dataTable =\n",
              "            await google.colab.kernel.invokeFunction('convertToInteractive',\n",
              "                                                     [key], {});\n",
              "          if (!dataTable) return;\n",
              "\n",
              "          const docLinkHtml = 'Like what you see? Visit the ' +\n",
              "            '<a target=\"_blank\" href=https://colab.research.google.com/notebooks/data_table.ipynb>data table notebook</a>'\n",
              "            + ' to learn more about interactive tables.';\n",
              "          element.innerHTML = '';\n",
              "          dataTable['output_type'] = 'display_data';\n",
              "          await google.colab.output.renderOutput(dataTable, element);\n",
              "          const docLink = document.createElement('div');\n",
              "          docLink.innerHTML = docLinkHtml;\n",
              "          element.appendChild(docLink);\n",
              "        }\n",
              "      </script>\n",
              "    </div>\n",
              "  </div>\n",
              "  "
            ]
          },
          "metadata": {},
          "execution_count": 37
        }
      ]
    },
    {
      "cell_type": "markdown",
      "source": [
        "## **3.1 Encoding**"
      ],
      "metadata": {
        "id": "GEBrs2v-Npaf"
      }
    },
    {
      "cell_type": "markdown",
      "source": [
        "In order to use `Region_Code` we have two options. \n",
        "\n",
        "The first one involves finding another dataset that associate the Region_Code with its region and then we should create clusters by population(or other relevant information).\n",
        "\n",
        "While the second one consists in just replacing the code with the average response by Region_Code. As the latter is more viable, we'll choose this one. "
      ],
      "metadata": {
        "id": "NDn3kuGoN8HR"
      }
    },
    {
      "cell_type": "code",
      "source": [
        "target_encode_region_code=train_1.groupby('Region_Code')['Response'].mean()\n",
        "train_1.loc[:, 'Region_Code'] = train_1['Region_Code'].map(target_encode_region_code)"
      ],
      "metadata": {
        "id": "_mZtmwmi40YZ"
      },
      "execution_count": 38,
      "outputs": []
    },
    {
      "cell_type": "markdown",
      "source": [
        "**One-hot encoding for `Gender`, `Vehicle_Age`**"
      ],
      "metadata": {
        "id": "m7DX8y9OPZKa"
      }
    },
    {
      "cell_type": "code",
      "source": [
        "train_1 = pd.get_dummies(train_1, columns=[\"Gender\",\"Vehicle_Age\"])"
      ],
      "metadata": {
        "id": "yt8_QulEQJMB"
      },
      "execution_count": 39,
      "outputs": []
    },
    {
      "cell_type": "markdown",
      "source": [
        "**Ordinal-Encoding `Vehicle_Damage`**"
      ],
      "metadata": {
        "id": "bx2guSVsTiMu"
      }
    },
    {
      "cell_type": "code",
      "source": [
        "Vehicle_Damage_labels = {\"Yes\":1,\"No\":0}\n",
        "train_1.Vehicle_Damage = train_1.Vehicle_Damage.map(Vehicle_Damage_labels)\n",
        "train_1.head()"
      ],
      "metadata": {
        "id": "GM3EC8w-TqJT",
        "colab": {
          "base_uri": "https://localhost:8080/",
          "height": 288
        },
        "outputId": "d234749b-261d-4f43-9c13-e1e46d47812e"
      },
      "execution_count": 40,
      "outputs": [
        {
          "output_type": "execute_result",
          "data": {
            "text/plain": [
              "   id  Age  Driving_License  Region_Code  Previously_Insured  Vehicle_Damage  \\\n",
              "0   1   44                1     0.187163                   0               1   \n",
              "1   2   76                1     0.127662                   0               0   \n",
              "2   3   47                1     0.187163                   0               1   \n",
              "3   4   21                1     0.112760                   1               0   \n",
              "4   5   29                1     0.121776                   1               0   \n",
              "\n",
              "   Annual_Premium  Policy_Sales_Channel  Vintage  Response  Gender_Female  \\\n",
              "0         40454.0                  26.0      217         1              0   \n",
              "1         33536.0                  26.0      183         0              0   \n",
              "2         38294.0                  26.0       27         1              0   \n",
              "3         28619.0                 152.0      203         0              0   \n",
              "4         27496.0                 152.0       39         0              1   \n",
              "\n",
              "   Gender_Male  Vehicle_Age_1-2 Year  Vehicle_Age_< 1 Year  \\\n",
              "0            1                     0                     0   \n",
              "1            1                     1                     0   \n",
              "2            1                     0                     0   \n",
              "3            1                     0                     1   \n",
              "4            0                     0                     1   \n",
              "\n",
              "   Vehicle_Age_> 2 Years  \n",
              "0                      1  \n",
              "1                      0  \n",
              "2                      1  \n",
              "3                      0  \n",
              "4                      0  "
            ],
            "text/html": [
              "\n",
              "  <div id=\"df-c139546f-4750-46f3-a8a6-554ff89c4714\">\n",
              "    <div class=\"colab-df-container\">\n",
              "      <div>\n",
              "<style scoped>\n",
              "    .dataframe tbody tr th:only-of-type {\n",
              "        vertical-align: middle;\n",
              "    }\n",
              "\n",
              "    .dataframe tbody tr th {\n",
              "        vertical-align: top;\n",
              "    }\n",
              "\n",
              "    .dataframe thead th {\n",
              "        text-align: right;\n",
              "    }\n",
              "</style>\n",
              "<table border=\"1\" class=\"dataframe\">\n",
              "  <thead>\n",
              "    <tr style=\"text-align: right;\">\n",
              "      <th></th>\n",
              "      <th>id</th>\n",
              "      <th>Age</th>\n",
              "      <th>Driving_License</th>\n",
              "      <th>Region_Code</th>\n",
              "      <th>Previously_Insured</th>\n",
              "      <th>Vehicle_Damage</th>\n",
              "      <th>Annual_Premium</th>\n",
              "      <th>Policy_Sales_Channel</th>\n",
              "      <th>Vintage</th>\n",
              "      <th>Response</th>\n",
              "      <th>Gender_Female</th>\n",
              "      <th>Gender_Male</th>\n",
              "      <th>Vehicle_Age_1-2 Year</th>\n",
              "      <th>Vehicle_Age_&lt; 1 Year</th>\n",
              "      <th>Vehicle_Age_&gt; 2 Years</th>\n",
              "    </tr>\n",
              "  </thead>\n",
              "  <tbody>\n",
              "    <tr>\n",
              "      <th>0</th>\n",
              "      <td>1</td>\n",
              "      <td>44</td>\n",
              "      <td>1</td>\n",
              "      <td>0.187163</td>\n",
              "      <td>0</td>\n",
              "      <td>1</td>\n",
              "      <td>40454.0</td>\n",
              "      <td>26.0</td>\n",
              "      <td>217</td>\n",
              "      <td>1</td>\n",
              "      <td>0</td>\n",
              "      <td>1</td>\n",
              "      <td>0</td>\n",
              "      <td>0</td>\n",
              "      <td>1</td>\n",
              "    </tr>\n",
              "    <tr>\n",
              "      <th>1</th>\n",
              "      <td>2</td>\n",
              "      <td>76</td>\n",
              "      <td>1</td>\n",
              "      <td>0.127662</td>\n",
              "      <td>0</td>\n",
              "      <td>0</td>\n",
              "      <td>33536.0</td>\n",
              "      <td>26.0</td>\n",
              "      <td>183</td>\n",
              "      <td>0</td>\n",
              "      <td>0</td>\n",
              "      <td>1</td>\n",
              "      <td>1</td>\n",
              "      <td>0</td>\n",
              "      <td>0</td>\n",
              "    </tr>\n",
              "    <tr>\n",
              "      <th>2</th>\n",
              "      <td>3</td>\n",
              "      <td>47</td>\n",
              "      <td>1</td>\n",
              "      <td>0.187163</td>\n",
              "      <td>0</td>\n",
              "      <td>1</td>\n",
              "      <td>38294.0</td>\n",
              "      <td>26.0</td>\n",
              "      <td>27</td>\n",
              "      <td>1</td>\n",
              "      <td>0</td>\n",
              "      <td>1</td>\n",
              "      <td>0</td>\n",
              "      <td>0</td>\n",
              "      <td>1</td>\n",
              "    </tr>\n",
              "    <tr>\n",
              "      <th>3</th>\n",
              "      <td>4</td>\n",
              "      <td>21</td>\n",
              "      <td>1</td>\n",
              "      <td>0.112760</td>\n",
              "      <td>1</td>\n",
              "      <td>0</td>\n",
              "      <td>28619.0</td>\n",
              "      <td>152.0</td>\n",
              "      <td>203</td>\n",
              "      <td>0</td>\n",
              "      <td>0</td>\n",
              "      <td>1</td>\n",
              "      <td>0</td>\n",
              "      <td>1</td>\n",
              "      <td>0</td>\n",
              "    </tr>\n",
              "    <tr>\n",
              "      <th>4</th>\n",
              "      <td>5</td>\n",
              "      <td>29</td>\n",
              "      <td>1</td>\n",
              "      <td>0.121776</td>\n",
              "      <td>1</td>\n",
              "      <td>0</td>\n",
              "      <td>27496.0</td>\n",
              "      <td>152.0</td>\n",
              "      <td>39</td>\n",
              "      <td>0</td>\n",
              "      <td>1</td>\n",
              "      <td>0</td>\n",
              "      <td>0</td>\n",
              "      <td>1</td>\n",
              "      <td>0</td>\n",
              "    </tr>\n",
              "  </tbody>\n",
              "</table>\n",
              "</div>\n",
              "      <button class=\"colab-df-convert\" onclick=\"convertToInteractive('df-c139546f-4750-46f3-a8a6-554ff89c4714')\"\n",
              "              title=\"Convert this dataframe to an interactive table.\"\n",
              "              style=\"display:none;\">\n",
              "        \n",
              "  <svg xmlns=\"http://www.w3.org/2000/svg\" height=\"24px\"viewBox=\"0 0 24 24\"\n",
              "       width=\"24px\">\n",
              "    <path d=\"M0 0h24v24H0V0z\" fill=\"none\"/>\n",
              "    <path d=\"M18.56 5.44l.94 2.06.94-2.06 2.06-.94-2.06-.94-.94-2.06-.94 2.06-2.06.94zm-11 1L8.5 8.5l.94-2.06 2.06-.94-2.06-.94L8.5 2.5l-.94 2.06-2.06.94zm10 10l.94 2.06.94-2.06 2.06-.94-2.06-.94-.94-2.06-.94 2.06-2.06.94z\"/><path d=\"M17.41 7.96l-1.37-1.37c-.4-.4-.92-.59-1.43-.59-.52 0-1.04.2-1.43.59L10.3 9.45l-7.72 7.72c-.78.78-.78 2.05 0 2.83L4 21.41c.39.39.9.59 1.41.59.51 0 1.02-.2 1.41-.59l7.78-7.78 2.81-2.81c.8-.78.8-2.07 0-2.86zM5.41 20L4 18.59l7.72-7.72 1.47 1.35L5.41 20z\"/>\n",
              "  </svg>\n",
              "      </button>\n",
              "      \n",
              "  <style>\n",
              "    .colab-df-container {\n",
              "      display:flex;\n",
              "      flex-wrap:wrap;\n",
              "      gap: 12px;\n",
              "    }\n",
              "\n",
              "    .colab-df-convert {\n",
              "      background-color: #E8F0FE;\n",
              "      border: none;\n",
              "      border-radius: 50%;\n",
              "      cursor: pointer;\n",
              "      display: none;\n",
              "      fill: #1967D2;\n",
              "      height: 32px;\n",
              "      padding: 0 0 0 0;\n",
              "      width: 32px;\n",
              "    }\n",
              "\n",
              "    .colab-df-convert:hover {\n",
              "      background-color: #E2EBFA;\n",
              "      box-shadow: 0px 1px 2px rgba(60, 64, 67, 0.3), 0px 1px 3px 1px rgba(60, 64, 67, 0.15);\n",
              "      fill: #174EA6;\n",
              "    }\n",
              "\n",
              "    [theme=dark] .colab-df-convert {\n",
              "      background-color: #3B4455;\n",
              "      fill: #D2E3FC;\n",
              "    }\n",
              "\n",
              "    [theme=dark] .colab-df-convert:hover {\n",
              "      background-color: #434B5C;\n",
              "      box-shadow: 0px 1px 3px 1px rgba(0, 0, 0, 0.15);\n",
              "      filter: drop-shadow(0px 1px 2px rgba(0, 0, 0, 0.3));\n",
              "      fill: #FFFFFF;\n",
              "    }\n",
              "  </style>\n",
              "\n",
              "      <script>\n",
              "        const buttonEl =\n",
              "          document.querySelector('#df-c139546f-4750-46f3-a8a6-554ff89c4714 button.colab-df-convert');\n",
              "        buttonEl.style.display =\n",
              "          google.colab.kernel.accessAllowed ? 'block' : 'none';\n",
              "\n",
              "        async function convertToInteractive(key) {\n",
              "          const element = document.querySelector('#df-c139546f-4750-46f3-a8a6-554ff89c4714');\n",
              "          const dataTable =\n",
              "            await google.colab.kernel.invokeFunction('convertToInteractive',\n",
              "                                                     [key], {});\n",
              "          if (!dataTable) return;\n",
              "\n",
              "          const docLinkHtml = 'Like what you see? Visit the ' +\n",
              "            '<a target=\"_blank\" href=https://colab.research.google.com/notebooks/data_table.ipynb>data table notebook</a>'\n",
              "            + ' to learn more about interactive tables.';\n",
              "          element.innerHTML = '';\n",
              "          dataTable['output_type'] = 'display_data';\n",
              "          await google.colab.output.renderOutput(dataTable, element);\n",
              "          const docLink = document.createElement('div');\n",
              "          docLink.innerHTML = docLinkHtml;\n",
              "          element.appendChild(docLink);\n",
              "        }\n",
              "      </script>\n",
              "    </div>\n",
              "  </div>\n",
              "  "
            ]
          },
          "metadata": {},
          "execution_count": 40
        }
      ]
    },
    {
      "cell_type": "markdown",
      "source": [
        "## **3.2 Tackling Imbalance**\n"
      ],
      "metadata": {
        "id": "NSshx6K9acH6"
      }
    },
    {
      "cell_type": "markdown",
      "source": [
        "Given the small size of the dataset, \"undersampling\" doesn't seem to be an ideal option(neither does combining undersampling with oversampling)"
      ],
      "metadata": {
        "id": "YSeRenauM0uR"
      }
    },
    {
      "cell_type": "markdown",
      "source": [
        "### Oversampling"
      ],
      "metadata": {
        "id": "GbQOUkrgbsFa"
      }
    },
    {
      "cell_type": "code",
      "source": [
        "oversample = RandomOverSampler(sampling_strategy=\"minority\",random_state=42)"
      ],
      "metadata": {
        "id": "VjSKkNNQSxxm"
      },
      "execution_count": 41,
      "outputs": []
    },
    {
      "cell_type": "code",
      "source": [
        "X = train_1.drop(\"Response\",axis=1).values\n",
        "y = train_1[\"Response\"].values\n",
        "X_over_train, X_over_test, y_over_train, y_over_test = train_test_split(X, y, test_size=.3, random_state=42)"
      ],
      "metadata": {
        "id": "Ht2J2Psz-L1J"
      },
      "execution_count": 42,
      "outputs": []
    },
    {
      "cell_type": "code",
      "source": [
        "X_over_train, y_over_train = oversample.fit_resample(X_over_train, y_over_train)"
      ],
      "metadata": {
        "id": "_SDwZckNTABO"
      },
      "execution_count": 43,
      "outputs": []
    },
    {
      "cell_type": "code",
      "source": [
        "unique, counts = np.unique(y_over_train, return_counts=True)\n",
        "dict(zip(unique, counts))"
      ],
      "metadata": {
        "colab": {
          "base_uri": "https://localhost:8080/"
        },
        "id": "UGUoSJxUTouS",
        "outputId": "dc884e0d-4ff2-4354-a79f-764247ce6ae9"
      },
      "execution_count": 44,
      "outputs": [
        {
          "output_type": "execute_result",
          "data": {
            "text/plain": [
              "{0: 234204, 1: 234204}"
            ]
          },
          "metadata": {},
          "execution_count": 44
        }
      ]
    },
    {
      "cell_type": "markdown",
      "source": [
        "### Penalizing most-frequent class"
      ],
      "metadata": {
        "id": "iO6cKBFWymel"
      }
    },
    {
      "cell_type": "markdown",
      "source": [
        "This is done by setting the argument `class_weight=\"balanced\"` when instantiating the Logistic Regression model.\n",
        "\n",
        "In fact, by doing so we will adjust the weights inversely proportional to the class frequencies."
      ],
      "metadata": {
        "id": "z_g97IGQyt7A"
      }
    },
    {
      "cell_type": "markdown",
      "source": [
        "## **3.3 Standardization**"
      ],
      "metadata": {
        "id": "Yc-WYCIp0-OS"
      }
    },
    {
      "cell_type": "markdown",
      "source": [
        "### Train data"
      ],
      "metadata": {
        "id": "gSaBMDxK14j2"
      }
    },
    {
      "cell_type": "code",
      "source": [
        "X = train_1.drop(\"Response\",axis=1).values\n",
        "y = train_1[\"Response\"].values\n",
        "X_train, X_test, y_train, y_test = train_test_split(X, y, test_size=0.3, random_state=42)"
      ],
      "metadata": {
        "id": "svVMM5Qv2A1Y"
      },
      "execution_count": 45,
      "outputs": []
    },
    {
      "cell_type": "code",
      "source": [
        "ss_train_data = StandardScaler()\n",
        "X_train = ss_train_data.fit_transform(X_train)\n",
        "X_test = ss_train_data.transform(X_test)"
      ],
      "metadata": {
        "id": "iMnsspgs2mxY"
      },
      "execution_count": 46,
      "outputs": []
    },
    {
      "cell_type": "markdown",
      "source": [
        "### Oversampled data"
      ],
      "metadata": {
        "id": "3iAGEHYm19DI"
      }
    },
    {
      "cell_type": "code",
      "source": [
        "ss_over_data = StandardScaler()\n",
        "X_over_train = ss_over_data.fit_transform(X_over_train)\n",
        "X_over_test = ss_over_data.transform(X_test)"
      ],
      "metadata": {
        "id": "UfLw9EpF3Z-w"
      },
      "execution_count": 47,
      "outputs": []
    },
    {
      "cell_type": "markdown",
      "source": [
        "# **4. Models' Evaluation** \n",
        "[Take me to Outline](#scrollTo=fLKKpiJRSEp-&line=5&uniqifier=1)"
      ],
      "metadata": {
        "id": "wn2n9IZhczUy"
      }
    },
    {
      "cell_type": "code",
      "source": [
        "train_1.Response.unique()"
      ],
      "metadata": {
        "id": "L07dHj6mR0H7",
        "colab": {
          "base_uri": "https://localhost:8080/"
        },
        "outputId": "52c89414-1460-4509-bd82-cee8d41e7ebe"
      },
      "execution_count": 48,
      "outputs": [
        {
          "output_type": "execute_result",
          "data": {
            "text/plain": [
              "array([1, 0])"
            ]
          },
          "metadata": {},
          "execution_count": 48
        }
      ]
    },
    {
      "cell_type": "markdown",
      "source": [
        "## **4.1 Creating Logistic model**"
      ],
      "metadata": {
        "id": "YVTmdZUN4yJ2"
      }
    },
    {
      "cell_type": "markdown",
      "source": [
        "### **Base-line model(no balancing)**"
      ],
      "metadata": {
        "id": "vybHYar5DBSB"
      }
    },
    {
      "cell_type": "code",
      "source": [
        "lr = LogisticRegression()\n",
        "lr.fit(X_train,y_train)"
      ],
      "metadata": {
        "colab": {
          "base_uri": "https://localhost:8080/",
          "height": 75
        },
        "id": "OAu8TY0rDAv7",
        "outputId": "fd90e94e-bc02-4ea2-fb5a-fbab3e07232b"
      },
      "execution_count": 49,
      "outputs": [
        {
          "output_type": "execute_result",
          "data": {
            "text/plain": [
              "LogisticRegression()"
            ],
            "text/html": [
              "<style>#sk-container-id-1 {color: black;background-color: white;}#sk-container-id-1 pre{padding: 0;}#sk-container-id-1 div.sk-toggleable {background-color: white;}#sk-container-id-1 label.sk-toggleable__label {cursor: pointer;display: block;width: 100%;margin-bottom: 0;padding: 0.3em;box-sizing: border-box;text-align: center;}#sk-container-id-1 label.sk-toggleable__label-arrow:before {content: \"▸\";float: left;margin-right: 0.25em;color: #696969;}#sk-container-id-1 label.sk-toggleable__label-arrow:hover:before {color: black;}#sk-container-id-1 div.sk-estimator:hover label.sk-toggleable__label-arrow:before {color: black;}#sk-container-id-1 div.sk-toggleable__content {max-height: 0;max-width: 0;overflow: hidden;text-align: left;background-color: #f0f8ff;}#sk-container-id-1 div.sk-toggleable__content pre {margin: 0.2em;color: black;border-radius: 0.25em;background-color: #f0f8ff;}#sk-container-id-1 input.sk-toggleable__control:checked~div.sk-toggleable__content {max-height: 200px;max-width: 100%;overflow: auto;}#sk-container-id-1 input.sk-toggleable__control:checked~label.sk-toggleable__label-arrow:before {content: \"▾\";}#sk-container-id-1 div.sk-estimator input.sk-toggleable__control:checked~label.sk-toggleable__label {background-color: #d4ebff;}#sk-container-id-1 div.sk-label input.sk-toggleable__control:checked~label.sk-toggleable__label {background-color: #d4ebff;}#sk-container-id-1 input.sk-hidden--visually {border: 0;clip: rect(1px 1px 1px 1px);clip: rect(1px, 1px, 1px, 1px);height: 1px;margin: -1px;overflow: hidden;padding: 0;position: absolute;width: 1px;}#sk-container-id-1 div.sk-estimator {font-family: monospace;background-color: #f0f8ff;border: 1px dotted black;border-radius: 0.25em;box-sizing: border-box;margin-bottom: 0.5em;}#sk-container-id-1 div.sk-estimator:hover {background-color: #d4ebff;}#sk-container-id-1 div.sk-parallel-item::after {content: \"\";width: 100%;border-bottom: 1px solid gray;flex-grow: 1;}#sk-container-id-1 div.sk-label:hover label.sk-toggleable__label {background-color: #d4ebff;}#sk-container-id-1 div.sk-serial::before {content: \"\";position: absolute;border-left: 1px solid gray;box-sizing: border-box;top: 0;bottom: 0;left: 50%;z-index: 0;}#sk-container-id-1 div.sk-serial {display: flex;flex-direction: column;align-items: center;background-color: white;padding-right: 0.2em;padding-left: 0.2em;position: relative;}#sk-container-id-1 div.sk-item {position: relative;z-index: 1;}#sk-container-id-1 div.sk-parallel {display: flex;align-items: stretch;justify-content: center;background-color: white;position: relative;}#sk-container-id-1 div.sk-item::before, #sk-container-id-1 div.sk-parallel-item::before {content: \"\";position: absolute;border-left: 1px solid gray;box-sizing: border-box;top: 0;bottom: 0;left: 50%;z-index: -1;}#sk-container-id-1 div.sk-parallel-item {display: flex;flex-direction: column;z-index: 1;position: relative;background-color: white;}#sk-container-id-1 div.sk-parallel-item:first-child::after {align-self: flex-end;width: 50%;}#sk-container-id-1 div.sk-parallel-item:last-child::after {align-self: flex-start;width: 50%;}#sk-container-id-1 div.sk-parallel-item:only-child::after {width: 0;}#sk-container-id-1 div.sk-dashed-wrapped {border: 1px dashed gray;margin: 0 0.4em 0.5em 0.4em;box-sizing: border-box;padding-bottom: 0.4em;background-color: white;}#sk-container-id-1 div.sk-label label {font-family: monospace;font-weight: bold;display: inline-block;line-height: 1.2em;}#sk-container-id-1 div.sk-label-container {text-align: center;}#sk-container-id-1 div.sk-container {/* jupyter's `normalize.less` sets `[hidden] { display: none; }` but bootstrap.min.css set `[hidden] { display: none !important; }` so we also need the `!important` here to be able to override the default hidden behavior on the sphinx rendered scikit-learn.org. See: https://github.com/scikit-learn/scikit-learn/issues/21755 */display: inline-block !important;position: relative;}#sk-container-id-1 div.sk-text-repr-fallback {display: none;}</style><div id=\"sk-container-id-1\" class=\"sk-top-container\"><div class=\"sk-text-repr-fallback\"><pre>LogisticRegression()</pre><b>In a Jupyter environment, please rerun this cell to show the HTML representation or trust the notebook. <br />On GitHub, the HTML representation is unable to render, please try loading this page with nbviewer.org.</b></div><div class=\"sk-container\" hidden><div class=\"sk-item\"><div class=\"sk-estimator sk-toggleable\"><input class=\"sk-toggleable__control sk-hidden--visually\" id=\"sk-estimator-id-1\" type=\"checkbox\" checked><label for=\"sk-estimator-id-1\" class=\"sk-toggleable__label sk-toggleable__label-arrow\">LogisticRegression</label><div class=\"sk-toggleable__content\"><pre>LogisticRegression()</pre></div></div></div></div></div>"
            ]
          },
          "metadata": {},
          "execution_count": 49
        }
      ]
    },
    {
      "cell_type": "markdown",
      "source": [
        "### **Oversample Data**"
      ],
      "metadata": {
        "id": "5Rswdh1A4cQg"
      }
    },
    {
      "cell_type": "code",
      "source": [
        "lr_oversampled = LogisticRegression()\n",
        "lr_oversampled.fit(X_over_train,y_over_train)"
      ],
      "metadata": {
        "colab": {
          "base_uri": "https://localhost:8080/",
          "height": 75
        },
        "id": "KWBxu5TC7COY",
        "outputId": "944d4c43-9273-4090-fa44-1e3f3f6e1952"
      },
      "execution_count": 50,
      "outputs": [
        {
          "output_type": "execute_result",
          "data": {
            "text/plain": [
              "LogisticRegression()"
            ],
            "text/html": [
              "<style>#sk-container-id-2 {color: black;background-color: white;}#sk-container-id-2 pre{padding: 0;}#sk-container-id-2 div.sk-toggleable {background-color: white;}#sk-container-id-2 label.sk-toggleable__label {cursor: pointer;display: block;width: 100%;margin-bottom: 0;padding: 0.3em;box-sizing: border-box;text-align: center;}#sk-container-id-2 label.sk-toggleable__label-arrow:before {content: \"▸\";float: left;margin-right: 0.25em;color: #696969;}#sk-container-id-2 label.sk-toggleable__label-arrow:hover:before {color: black;}#sk-container-id-2 div.sk-estimator:hover label.sk-toggleable__label-arrow:before {color: black;}#sk-container-id-2 div.sk-toggleable__content {max-height: 0;max-width: 0;overflow: hidden;text-align: left;background-color: #f0f8ff;}#sk-container-id-2 div.sk-toggleable__content pre {margin: 0.2em;color: black;border-radius: 0.25em;background-color: #f0f8ff;}#sk-container-id-2 input.sk-toggleable__control:checked~div.sk-toggleable__content {max-height: 200px;max-width: 100%;overflow: auto;}#sk-container-id-2 input.sk-toggleable__control:checked~label.sk-toggleable__label-arrow:before {content: \"▾\";}#sk-container-id-2 div.sk-estimator input.sk-toggleable__control:checked~label.sk-toggleable__label {background-color: #d4ebff;}#sk-container-id-2 div.sk-label input.sk-toggleable__control:checked~label.sk-toggleable__label {background-color: #d4ebff;}#sk-container-id-2 input.sk-hidden--visually {border: 0;clip: rect(1px 1px 1px 1px);clip: rect(1px, 1px, 1px, 1px);height: 1px;margin: -1px;overflow: hidden;padding: 0;position: absolute;width: 1px;}#sk-container-id-2 div.sk-estimator {font-family: monospace;background-color: #f0f8ff;border: 1px dotted black;border-radius: 0.25em;box-sizing: border-box;margin-bottom: 0.5em;}#sk-container-id-2 div.sk-estimator:hover {background-color: #d4ebff;}#sk-container-id-2 div.sk-parallel-item::after {content: \"\";width: 100%;border-bottom: 1px solid gray;flex-grow: 1;}#sk-container-id-2 div.sk-label:hover label.sk-toggleable__label {background-color: #d4ebff;}#sk-container-id-2 div.sk-serial::before {content: \"\";position: absolute;border-left: 1px solid gray;box-sizing: border-box;top: 0;bottom: 0;left: 50%;z-index: 0;}#sk-container-id-2 div.sk-serial {display: flex;flex-direction: column;align-items: center;background-color: white;padding-right: 0.2em;padding-left: 0.2em;position: relative;}#sk-container-id-2 div.sk-item {position: relative;z-index: 1;}#sk-container-id-2 div.sk-parallel {display: flex;align-items: stretch;justify-content: center;background-color: white;position: relative;}#sk-container-id-2 div.sk-item::before, #sk-container-id-2 div.sk-parallel-item::before {content: \"\";position: absolute;border-left: 1px solid gray;box-sizing: border-box;top: 0;bottom: 0;left: 50%;z-index: -1;}#sk-container-id-2 div.sk-parallel-item {display: flex;flex-direction: column;z-index: 1;position: relative;background-color: white;}#sk-container-id-2 div.sk-parallel-item:first-child::after {align-self: flex-end;width: 50%;}#sk-container-id-2 div.sk-parallel-item:last-child::after {align-self: flex-start;width: 50%;}#sk-container-id-2 div.sk-parallel-item:only-child::after {width: 0;}#sk-container-id-2 div.sk-dashed-wrapped {border: 1px dashed gray;margin: 0 0.4em 0.5em 0.4em;box-sizing: border-box;padding-bottom: 0.4em;background-color: white;}#sk-container-id-2 div.sk-label label {font-family: monospace;font-weight: bold;display: inline-block;line-height: 1.2em;}#sk-container-id-2 div.sk-label-container {text-align: center;}#sk-container-id-2 div.sk-container {/* jupyter's `normalize.less` sets `[hidden] { display: none; }` but bootstrap.min.css set `[hidden] { display: none !important; }` so we also need the `!important` here to be able to override the default hidden behavior on the sphinx rendered scikit-learn.org. See: https://github.com/scikit-learn/scikit-learn/issues/21755 */display: inline-block !important;position: relative;}#sk-container-id-2 div.sk-text-repr-fallback {display: none;}</style><div id=\"sk-container-id-2\" class=\"sk-top-container\"><div class=\"sk-text-repr-fallback\"><pre>LogisticRegression()</pre><b>In a Jupyter environment, please rerun this cell to show the HTML representation or trust the notebook. <br />On GitHub, the HTML representation is unable to render, please try loading this page with nbviewer.org.</b></div><div class=\"sk-container\" hidden><div class=\"sk-item\"><div class=\"sk-estimator sk-toggleable\"><input class=\"sk-toggleable__control sk-hidden--visually\" id=\"sk-estimator-id-2\" type=\"checkbox\" checked><label for=\"sk-estimator-id-2\" class=\"sk-toggleable__label sk-toggleable__label-arrow\">LogisticRegression</label><div class=\"sk-toggleable__content\"><pre>LogisticRegression()</pre></div></div></div></div></div>"
            ]
          },
          "metadata": {},
          "execution_count": 50
        }
      ]
    },
    {
      "cell_type": "markdown",
      "source": [
        "### **Weight_class=\"Balanced\"**"
      ],
      "metadata": {
        "id": "72CJpTEs71JC"
      }
    },
    {
      "cell_type": "code",
      "source": [
        "lr_weighted = LogisticRegression(class_weight=\"balanced\")\n",
        "lr_weighted.fit(X_train,y_train)"
      ],
      "metadata": {
        "colab": {
          "base_uri": "https://localhost:8080/",
          "height": 75
        },
        "id": "Tn6T0GXPvK6U",
        "outputId": "5a343545-3d90-4137-fb76-22927593f93a"
      },
      "execution_count": 51,
      "outputs": [
        {
          "output_type": "execute_result",
          "data": {
            "text/plain": [
              "LogisticRegression(class_weight='balanced')"
            ],
            "text/html": [
              "<style>#sk-container-id-3 {color: black;background-color: white;}#sk-container-id-3 pre{padding: 0;}#sk-container-id-3 div.sk-toggleable {background-color: white;}#sk-container-id-3 label.sk-toggleable__label {cursor: pointer;display: block;width: 100%;margin-bottom: 0;padding: 0.3em;box-sizing: border-box;text-align: center;}#sk-container-id-3 label.sk-toggleable__label-arrow:before {content: \"▸\";float: left;margin-right: 0.25em;color: #696969;}#sk-container-id-3 label.sk-toggleable__label-arrow:hover:before {color: black;}#sk-container-id-3 div.sk-estimator:hover label.sk-toggleable__label-arrow:before {color: black;}#sk-container-id-3 div.sk-toggleable__content {max-height: 0;max-width: 0;overflow: hidden;text-align: left;background-color: #f0f8ff;}#sk-container-id-3 div.sk-toggleable__content pre {margin: 0.2em;color: black;border-radius: 0.25em;background-color: #f0f8ff;}#sk-container-id-3 input.sk-toggleable__control:checked~div.sk-toggleable__content {max-height: 200px;max-width: 100%;overflow: auto;}#sk-container-id-3 input.sk-toggleable__control:checked~label.sk-toggleable__label-arrow:before {content: \"▾\";}#sk-container-id-3 div.sk-estimator input.sk-toggleable__control:checked~label.sk-toggleable__label {background-color: #d4ebff;}#sk-container-id-3 div.sk-label input.sk-toggleable__control:checked~label.sk-toggleable__label {background-color: #d4ebff;}#sk-container-id-3 input.sk-hidden--visually {border: 0;clip: rect(1px 1px 1px 1px);clip: rect(1px, 1px, 1px, 1px);height: 1px;margin: -1px;overflow: hidden;padding: 0;position: absolute;width: 1px;}#sk-container-id-3 div.sk-estimator {font-family: monospace;background-color: #f0f8ff;border: 1px dotted black;border-radius: 0.25em;box-sizing: border-box;margin-bottom: 0.5em;}#sk-container-id-3 div.sk-estimator:hover {background-color: #d4ebff;}#sk-container-id-3 div.sk-parallel-item::after {content: \"\";width: 100%;border-bottom: 1px solid gray;flex-grow: 1;}#sk-container-id-3 div.sk-label:hover label.sk-toggleable__label {background-color: #d4ebff;}#sk-container-id-3 div.sk-serial::before {content: \"\";position: absolute;border-left: 1px solid gray;box-sizing: border-box;top: 0;bottom: 0;left: 50%;z-index: 0;}#sk-container-id-3 div.sk-serial {display: flex;flex-direction: column;align-items: center;background-color: white;padding-right: 0.2em;padding-left: 0.2em;position: relative;}#sk-container-id-3 div.sk-item {position: relative;z-index: 1;}#sk-container-id-3 div.sk-parallel {display: flex;align-items: stretch;justify-content: center;background-color: white;position: relative;}#sk-container-id-3 div.sk-item::before, #sk-container-id-3 div.sk-parallel-item::before {content: \"\";position: absolute;border-left: 1px solid gray;box-sizing: border-box;top: 0;bottom: 0;left: 50%;z-index: -1;}#sk-container-id-3 div.sk-parallel-item {display: flex;flex-direction: column;z-index: 1;position: relative;background-color: white;}#sk-container-id-3 div.sk-parallel-item:first-child::after {align-self: flex-end;width: 50%;}#sk-container-id-3 div.sk-parallel-item:last-child::after {align-self: flex-start;width: 50%;}#sk-container-id-3 div.sk-parallel-item:only-child::after {width: 0;}#sk-container-id-3 div.sk-dashed-wrapped {border: 1px dashed gray;margin: 0 0.4em 0.5em 0.4em;box-sizing: border-box;padding-bottom: 0.4em;background-color: white;}#sk-container-id-3 div.sk-label label {font-family: monospace;font-weight: bold;display: inline-block;line-height: 1.2em;}#sk-container-id-3 div.sk-label-container {text-align: center;}#sk-container-id-3 div.sk-container {/* jupyter's `normalize.less` sets `[hidden] { display: none; }` but bootstrap.min.css set `[hidden] { display: none !important; }` so we also need the `!important` here to be able to override the default hidden behavior on the sphinx rendered scikit-learn.org. See: https://github.com/scikit-learn/scikit-learn/issues/21755 */display: inline-block !important;position: relative;}#sk-container-id-3 div.sk-text-repr-fallback {display: none;}</style><div id=\"sk-container-id-3\" class=\"sk-top-container\"><div class=\"sk-text-repr-fallback\"><pre>LogisticRegression(class_weight=&#x27;balanced&#x27;)</pre><b>In a Jupyter environment, please rerun this cell to show the HTML representation or trust the notebook. <br />On GitHub, the HTML representation is unable to render, please try loading this page with nbviewer.org.</b></div><div class=\"sk-container\" hidden><div class=\"sk-item\"><div class=\"sk-estimator sk-toggleable\"><input class=\"sk-toggleable__control sk-hidden--visually\" id=\"sk-estimator-id-3\" type=\"checkbox\" checked><label for=\"sk-estimator-id-3\" class=\"sk-toggleable__label sk-toggleable__label-arrow\">LogisticRegression</label><div class=\"sk-toggleable__content\"><pre>LogisticRegression(class_weight=&#x27;balanced&#x27;)</pre></div></div></div></div></div>"
            ]
          },
          "metadata": {},
          "execution_count": 51
        }
      ]
    },
    {
      "cell_type": "markdown",
      "source": [
        "### No multicollinearity"
      ],
      "metadata": {
        "id": "UOBq253yTRg0"
      }
    },
    {
      "cell_type": "code",
      "source": [
        "#find design matrix for linear regression model using 'rating' as response variable \n",
        "y_vif, X_vif = dmatrices('Response ~ Gender+Age+Driving_License+Region_Code+Previously_Insured+Vehicle_Age+Vehicle_Damage+Annual_Premium+Policy_Sales_Channel+Vintage', data=train, return_type='dataframe')\n",
        "\n",
        "vif = pd.DataFrame()\n",
        "vif['VIF'] = [variance_inflation_factor(X_vif.values, i) for i in range(X_vif.shape[1])]\n",
        "vif['variable'] = X_vif.columns\n",
        "vif"
      ],
      "metadata": {
        "id": "odAzBpHETbYN",
        "colab": {
          "base_uri": "https://localhost:8080/",
          "height": 426
        },
        "outputId": "85f60ef5-ca95-4ff7-d34d-73afdfd82860"
      },
      "execution_count": 52,
      "outputs": [
        {
          "output_type": "execute_result",
          "data": {
            "text/plain": [
              "           VIF                  variable\n",
              "0   551.328083                 Intercept\n",
              "1     1.030603            Gender[T.Male]\n",
              "2     3.035599   Vehicle_Age[T.< 1 Year]\n",
              "3     1.082763  Vehicle_Age[T.> 2 Years]\n",
              "4     3.201780     Vehicle_Damage[T.Yes]\n",
              "5     2.893777                       Age\n",
              "6     1.008111           Driving_License\n",
              "7     1.002924               Region_Code\n",
              "8     3.156807        Previously_Insured\n",
              "9     1.021661            Annual_Premium\n",
              "10    1.607001      Policy_Sales_Channel\n",
              "11    1.000027                   Vintage"
            ],
            "text/html": [
              "\n",
              "  <div id=\"df-4fb128ec-69a9-4128-9f41-7ba8db8fbb0f\">\n",
              "    <div class=\"colab-df-container\">\n",
              "      <div>\n",
              "<style scoped>\n",
              "    .dataframe tbody tr th:only-of-type {\n",
              "        vertical-align: middle;\n",
              "    }\n",
              "\n",
              "    .dataframe tbody tr th {\n",
              "        vertical-align: top;\n",
              "    }\n",
              "\n",
              "    .dataframe thead th {\n",
              "        text-align: right;\n",
              "    }\n",
              "</style>\n",
              "<table border=\"1\" class=\"dataframe\">\n",
              "  <thead>\n",
              "    <tr style=\"text-align: right;\">\n",
              "      <th></th>\n",
              "      <th>VIF</th>\n",
              "      <th>variable</th>\n",
              "    </tr>\n",
              "  </thead>\n",
              "  <tbody>\n",
              "    <tr>\n",
              "      <th>0</th>\n",
              "      <td>551.328083</td>\n",
              "      <td>Intercept</td>\n",
              "    </tr>\n",
              "    <tr>\n",
              "      <th>1</th>\n",
              "      <td>1.030603</td>\n",
              "      <td>Gender[T.Male]</td>\n",
              "    </tr>\n",
              "    <tr>\n",
              "      <th>2</th>\n",
              "      <td>3.035599</td>\n",
              "      <td>Vehicle_Age[T.&lt; 1 Year]</td>\n",
              "    </tr>\n",
              "    <tr>\n",
              "      <th>3</th>\n",
              "      <td>1.082763</td>\n",
              "      <td>Vehicle_Age[T.&gt; 2 Years]</td>\n",
              "    </tr>\n",
              "    <tr>\n",
              "      <th>4</th>\n",
              "      <td>3.201780</td>\n",
              "      <td>Vehicle_Damage[T.Yes]</td>\n",
              "    </tr>\n",
              "    <tr>\n",
              "      <th>5</th>\n",
              "      <td>2.893777</td>\n",
              "      <td>Age</td>\n",
              "    </tr>\n",
              "    <tr>\n",
              "      <th>6</th>\n",
              "      <td>1.008111</td>\n",
              "      <td>Driving_License</td>\n",
              "    </tr>\n",
              "    <tr>\n",
              "      <th>7</th>\n",
              "      <td>1.002924</td>\n",
              "      <td>Region_Code</td>\n",
              "    </tr>\n",
              "    <tr>\n",
              "      <th>8</th>\n",
              "      <td>3.156807</td>\n",
              "      <td>Previously_Insured</td>\n",
              "    </tr>\n",
              "    <tr>\n",
              "      <th>9</th>\n",
              "      <td>1.021661</td>\n",
              "      <td>Annual_Premium</td>\n",
              "    </tr>\n",
              "    <tr>\n",
              "      <th>10</th>\n",
              "      <td>1.607001</td>\n",
              "      <td>Policy_Sales_Channel</td>\n",
              "    </tr>\n",
              "    <tr>\n",
              "      <th>11</th>\n",
              "      <td>1.000027</td>\n",
              "      <td>Vintage</td>\n",
              "    </tr>\n",
              "  </tbody>\n",
              "</table>\n",
              "</div>\n",
              "      <button class=\"colab-df-convert\" onclick=\"convertToInteractive('df-4fb128ec-69a9-4128-9f41-7ba8db8fbb0f')\"\n",
              "              title=\"Convert this dataframe to an interactive table.\"\n",
              "              style=\"display:none;\">\n",
              "        \n",
              "  <svg xmlns=\"http://www.w3.org/2000/svg\" height=\"24px\"viewBox=\"0 0 24 24\"\n",
              "       width=\"24px\">\n",
              "    <path d=\"M0 0h24v24H0V0z\" fill=\"none\"/>\n",
              "    <path d=\"M18.56 5.44l.94 2.06.94-2.06 2.06-.94-2.06-.94-.94-2.06-.94 2.06-2.06.94zm-11 1L8.5 8.5l.94-2.06 2.06-.94-2.06-.94L8.5 2.5l-.94 2.06-2.06.94zm10 10l.94 2.06.94-2.06 2.06-.94-2.06-.94-.94-2.06-.94 2.06-2.06.94z\"/><path d=\"M17.41 7.96l-1.37-1.37c-.4-.4-.92-.59-1.43-.59-.52 0-1.04.2-1.43.59L10.3 9.45l-7.72 7.72c-.78.78-.78 2.05 0 2.83L4 21.41c.39.39.9.59 1.41.59.51 0 1.02-.2 1.41-.59l7.78-7.78 2.81-2.81c.8-.78.8-2.07 0-2.86zM5.41 20L4 18.59l7.72-7.72 1.47 1.35L5.41 20z\"/>\n",
              "  </svg>\n",
              "      </button>\n",
              "      \n",
              "  <style>\n",
              "    .colab-df-container {\n",
              "      display:flex;\n",
              "      flex-wrap:wrap;\n",
              "      gap: 12px;\n",
              "    }\n",
              "\n",
              "    .colab-df-convert {\n",
              "      background-color: #E8F0FE;\n",
              "      border: none;\n",
              "      border-radius: 50%;\n",
              "      cursor: pointer;\n",
              "      display: none;\n",
              "      fill: #1967D2;\n",
              "      height: 32px;\n",
              "      padding: 0 0 0 0;\n",
              "      width: 32px;\n",
              "    }\n",
              "\n",
              "    .colab-df-convert:hover {\n",
              "      background-color: #E2EBFA;\n",
              "      box-shadow: 0px 1px 2px rgba(60, 64, 67, 0.3), 0px 1px 3px 1px rgba(60, 64, 67, 0.15);\n",
              "      fill: #174EA6;\n",
              "    }\n",
              "\n",
              "    [theme=dark] .colab-df-convert {\n",
              "      background-color: #3B4455;\n",
              "      fill: #D2E3FC;\n",
              "    }\n",
              "\n",
              "    [theme=dark] .colab-df-convert:hover {\n",
              "      background-color: #434B5C;\n",
              "      box-shadow: 0px 1px 3px 1px rgba(0, 0, 0, 0.15);\n",
              "      filter: drop-shadow(0px 1px 2px rgba(0, 0, 0, 0.3));\n",
              "      fill: #FFFFFF;\n",
              "    }\n",
              "  </style>\n",
              "\n",
              "      <script>\n",
              "        const buttonEl =\n",
              "          document.querySelector('#df-4fb128ec-69a9-4128-9f41-7ba8db8fbb0f button.colab-df-convert');\n",
              "        buttonEl.style.display =\n",
              "          google.colab.kernel.accessAllowed ? 'block' : 'none';\n",
              "\n",
              "        async function convertToInteractive(key) {\n",
              "          const element = document.querySelector('#df-4fb128ec-69a9-4128-9f41-7ba8db8fbb0f');\n",
              "          const dataTable =\n",
              "            await google.colab.kernel.invokeFunction('convertToInteractive',\n",
              "                                                     [key], {});\n",
              "          if (!dataTable) return;\n",
              "\n",
              "          const docLinkHtml = 'Like what you see? Visit the ' +\n",
              "            '<a target=\"_blank\" href=https://colab.research.google.com/notebooks/data_table.ipynb>data table notebook</a>'\n",
              "            + ' to learn more about interactive tables.';\n",
              "          element.innerHTML = '';\n",
              "          dataTable['output_type'] = 'display_data';\n",
              "          await google.colab.output.renderOutput(dataTable, element);\n",
              "          const docLink = document.createElement('div');\n",
              "          docLink.innerHTML = docLinkHtml;\n",
              "          element.appendChild(docLink);\n",
              "        }\n",
              "      </script>\n",
              "    </div>\n",
              "  </div>\n",
              "  "
            ]
          },
          "metadata": {},
          "execution_count": 52
        }
      ]
    },
    {
      "cell_type": "markdown",
      "source": [
        "## **4.2 Model Evaluation**"
      ],
      "metadata": {
        "id": "_4gLFBqL7rrA"
      }
    },
    {
      "cell_type": "markdown",
      "source": [
        "P.S. I won't change the parameters of the decision boundary cause in order to do so I would need further information about the business of the company(knowledge-domain)\n",
        "\n",
        "e.g. Is a false-positive worse than a false-negative? That, without a doubt, depends on the domain  "
      ],
      "metadata": {
        "id": "gR83PaUsM6c1"
      }
    },
    {
      "cell_type": "markdown",
      "source": [
        "### **Baseline model(no balancing)**"
      ],
      "metadata": {
        "id": "eA29koGoC3dx"
      }
    },
    {
      "cell_type": "markdown",
      "source": [
        "**Classification Report**"
      ],
      "metadata": {
        "id": "oYzAuQKJDTo6"
      }
    },
    {
      "cell_type": "code",
      "source": [
        "y_pred_train = lr.predict(X_train)\n",
        "y_proba_train = lr.predict_proba(X_train)\n",
        "y_pred_test = lr.predict(X_test)\n",
        "y_proba_test =  lr.predict_proba(X_test)\n",
        "\n",
        "print(\"TRAIN REPORT\")\n",
        "print(classification_report(y_train, y_pred_train))\n",
        "print(\"TEST REPORT\")\n",
        "print(classification_report(y_test, y_pred_test))"
      ],
      "metadata": {
        "id": "wjQO6AfsC_k6",
        "colab": {
          "base_uri": "https://localhost:8080/"
        },
        "outputId": "1f80f1f9-626d-475b-a454-86aedee93b29"
      },
      "execution_count": 53,
      "outputs": [
        {
          "output_type": "stream",
          "name": "stdout",
          "text": [
            "TRAIN REPORT\n",
            "              precision    recall  f1-score   support\n",
            "\n",
            "           0       0.88      1.00      0.93    234204\n",
            "           1       0.03      0.00      0.00     32572\n",
            "\n",
            "    accuracy                           0.88    266776\n",
            "   macro avg       0.45      0.50      0.47    266776\n",
            "weighted avg       0.77      0.88      0.82    266776\n",
            "\n",
            "TEST REPORT\n",
            "              precision    recall  f1-score   support\n",
            "\n",
            "           0       0.88      1.00      0.93    100195\n",
            "           1       0.07      0.00      0.00     14138\n",
            "\n",
            "    accuracy                           0.88    114333\n",
            "   macro avg       0.47      0.50      0.47    114333\n",
            "weighted avg       0.78      0.88      0.82    114333\n",
            "\n"
          ]
        }
      ]
    },
    {
      "cell_type": "markdown",
      "source": [
        "As the model's performance are already very poor, I won't go ahead with visualizing cofusion matrix, ROC curve etc.\n",
        "\n",
        "We can discard this one."
      ],
      "metadata": {
        "id": "_cFo6Uj8DmPy"
      }
    },
    {
      "cell_type": "markdown",
      "source": [
        "### **Weight_class=\"Balanced\"**"
      ],
      "metadata": {
        "id": "7BkhqZUR4gAu"
      }
    },
    {
      "cell_type": "markdown",
      "source": [
        "**Classification Report**"
      ],
      "metadata": {
        "id": "Vzk-IRWG8IZe"
      }
    },
    {
      "cell_type": "code",
      "source": [
        "y_pred_train_weighted = lr_weighted.predict(X_train)\n",
        "y_proba_train_weighted = lr_weighted.predict_proba(X_train)\n",
        "y_pred_test_weighted = lr_weighted.predict(X_test)\n",
        "y_proba_test_weighted =  lr_weighted.predict_proba(X_test)\n",
        "\n",
        "print(\"TRAIN REPORT\")\n",
        "print(classification_report(y_train, y_pred_train_weighted))\n",
        "print(\"TEST REPORT\")\n",
        "print(classification_report(y_test, y_pred_test_weighted))"
      ],
      "metadata": {
        "id": "W1IXkAlD76YF",
        "colab": {
          "base_uri": "https://localhost:8080/"
        },
        "outputId": "3deecdaf-ce4c-4a6c-b511-f377c91cf643"
      },
      "execution_count": 54,
      "outputs": [
        {
          "output_type": "stream",
          "name": "stdout",
          "text": [
            "TRAIN REPORT\n",
            "              precision    recall  f1-score   support\n",
            "\n",
            "           0       0.99      0.60      0.75    234204\n",
            "           1       0.25      0.97      0.40     32572\n",
            "\n",
            "    accuracy                           0.64    266776\n",
            "   macro avg       0.62      0.78      0.57    266776\n",
            "weighted avg       0.90      0.64      0.70    266776\n",
            "\n",
            "TEST REPORT\n",
            "              precision    recall  f1-score   support\n",
            "\n",
            "           0       0.99      0.60      0.75    100195\n",
            "           1       0.25      0.97      0.40     14138\n",
            "\n",
            "    accuracy                           0.64    114333\n",
            "   macro avg       0.62      0.78      0.58    114333\n",
            "weighted avg       0.90      0.64      0.70    114333\n",
            "\n"
          ]
        }
      ]
    },
    {
      "cell_type": "code",
      "source": [
        "X_train.shape"
      ],
      "metadata": {
        "id": "JhnGUK1ZG6X8",
        "colab": {
          "base_uri": "https://localhost:8080/"
        },
        "outputId": "43bfb68b-a713-4d5a-a4bb-3ec5c8c01de2"
      },
      "execution_count": 55,
      "outputs": [
        {
          "output_type": "execute_result",
          "data": {
            "text/plain": [
              "(266776, 14)"
            ]
          },
          "metadata": {},
          "execution_count": 55
        }
      ]
    },
    {
      "cell_type": "markdown",
      "source": [
        "**Confusion Matrix**"
      ],
      "metadata": {
        "id": "ViyGJ9Cm8OSo"
      }
    },
    {
      "cell_type": "code",
      "source": [
        "def plot_confusion_matrix(y_true, y_pred, labels=[\"Negative\", \"Positive\"], show_precision_recall=True):\n",
        "\n",
        "  cm = confusion_matrix(y_true, y_pred) # tn, fp, fn, tp \n",
        "\n",
        "  df_cm = pd.DataFrame(cm, index = labels,\n",
        "                    columns = [\"Predicted \"+labels[0],\"Predicted \"+labels[1]])\n",
        "  sns.heatmap(df_cm, annot=True, fmt='g')\n",
        "\n",
        "  if show_precision_recall:\n",
        "    plt.text(0, -0.1, f\"Precision: {(cm[1][1]/(cm[1][1]+cm[0][1])):.3f}\")\n",
        "    plt.text(1, -0.1, f\"Recall: {(cm[1][1]/(cm[1][1]+cm[1][0])):.3f}\")"
      ],
      "metadata": {
        "id": "kUF0xgy18V1I"
      },
      "execution_count": 56,
      "outputs": []
    },
    {
      "cell_type": "code",
      "source": [
        "plot_confusion_matrix(y_train, y_pred_train_weighted, [\"Not Intersted\", \"Intersted\"])"
      ],
      "metadata": {
        "id": "XiOL8J8aEE-j",
        "colab": {
          "base_uri": "https://localhost:8080/",
          "height": 284
        },
        "outputId": "c4d4894a-f871-49c8-8c71-0c15f80e7612"
      },
      "execution_count": 57,
      "outputs": [
        {
          "output_type": "display_data",
          "data": {
            "text/plain": [
              "<Figure size 432x288 with 2 Axes>"
            ],
            "image/png": "[encoded data removed]"
          },
          "metadata": {
            "needs_background": "light"
          }
        }
      ]
    },
    {
      "cell_type": "code",
      "source": [
        "plot_confusion_matrix(y_test, y_pred_test_weighted, [\"Not Intersted\", \"Intersted\"])"
      ],
      "metadata": {
        "id": "fk6jcYHiHkNV",
        "colab": {
          "base_uri": "https://localhost:8080/",
          "height": 284
        },
        "outputId": "814fd640-467e-45ba-89ec-3340c259310b"
      },
      "execution_count": 58,
      "outputs": [
        {
          "output_type": "display_data",
          "data": {
            "text/plain": [
              "<Figure size 432x288 with 2 Axes>"
            ],
            "image/png": "[encoded data removed]"
          },
          "metadata": {
            "needs_background": "light"
          }
        }
      ]
    },
    {
      "cell_type": "markdown",
      "source": [
        "**ROC Curve**"
      ],
      "metadata": {
        "id": "aHu2l4Do8RoD"
      }
    },
    {
      "cell_type": "code",
      "source": [
        "RocCurveDisplay.from_estimator(lr_weighted, X_train, y_train, name=\"Driving Insurance Interest Classifier\")"
      ],
      "metadata": {
        "id": "ZNuCtm4c8WVV",
        "colab": {
          "base_uri": "https://localhost:8080/",
          "height": 297
        },
        "outputId": "0508712a-2df4-4f49-ca95-eed5a0f2c68d"
      },
      "execution_count": 59,
      "outputs": [
        {
          "output_type": "execute_result",
          "data": {
            "text/plain": [
              "<sklearn.metrics._plot.roc_curve.RocCurveDisplay at 0x7fa48c0d9730>"
            ]
          },
          "metadata": {},
          "execution_count": 59
        },
        {
          "output_type": "display_data",
          "data": {
            "text/plain": [
              "<Figure size 432x288 with 1 Axes>"
            ],
            "image/png": "[encoded data removed]"
          },
          "metadata": {
            "needs_background": "light"
          }
        }
      ]
    },
    {
      "cell_type": "markdown",
      "source": [
        "### **Oversample Data**"
      ],
      "metadata": {
        "id": "8HW1i2rR75GL"
      }
    },
    {
      "cell_type": "markdown",
      "source": [
        "**Classification Report**"
      ],
      "metadata": {
        "id": "JGa9nWPd8awu"
      }
    },
    {
      "cell_type": "code",
      "source": [
        "y_pred_train_oversampled = lr_oversampled.predict(X_train)          # Note: when evaluating the model, we don't have to use the oversampled data cause it\n",
        "y_proba_train_oversampled = lr_oversampled.predict_proba(X_train)      # was only meant for the training of the model\n",
        "y_pred_test_oversampled = lr_oversampled.predict(X_test)\n",
        "y_proba_test_oversampled =  lr_oversampled.predict_proba(X_test)\n",
        "\n",
        "print(\"TRAIN REPORT\")\n",
        "print(classification_report(y_train, y_pred_train_oversampled))          \n",
        "print(\"TEST REPORT\")\n",
        "print(classification_report(y_test, y_pred_test_oversampled))"
      ],
      "metadata": {
        "id": "lHLS7ILCLctn",
        "colab": {
          "base_uri": "https://localhost:8080/"
        },
        "outputId": "49361089-58ff-4204-ffd1-1660ae693e17"
      },
      "execution_count": 60,
      "outputs": [
        {
          "output_type": "stream",
          "name": "stdout",
          "text": [
            "TRAIN REPORT\n",
            "              precision    recall  f1-score   support\n",
            "\n",
            "           0       1.00      0.57      0.72    234204\n",
            "           1       0.24      0.99      0.39     32572\n",
            "\n",
            "    accuracy                           0.62    266776\n",
            "   macro avg       0.62      0.78      0.55    266776\n",
            "weighted avg       0.90      0.62      0.68    266776\n",
            "\n",
            "TEST REPORT\n",
            "              precision    recall  f1-score   support\n",
            "\n",
            "           0       1.00      0.57      0.72    100195\n",
            "           1       0.24      0.99      0.39     14138\n",
            "\n",
            "    accuracy                           0.62    114333\n",
            "   macro avg       0.62      0.78      0.56    114333\n",
            "weighted avg       0.90      0.62      0.68    114333\n",
            "\n"
          ]
        }
      ]
    },
    {
      "cell_type": "markdown",
      "source": [
        "**Confusion Matrix**"
      ],
      "metadata": {
        "id": "PPk-96ch8dR1"
      }
    },
    {
      "cell_type": "code",
      "source": [
        "plot_confusion_matrix(y_train, y_pred_train_oversampled, [\"Not Intersted\", \"Intersted\"])"
      ],
      "metadata": {
        "id": "MmAXKoF98gMC",
        "colab": {
          "base_uri": "https://localhost:8080/",
          "height": 284
        },
        "outputId": "d5f4edc5-9b00-4b83-a088-ce62b8c5c27e"
      },
      "execution_count": 61,
      "outputs": [
        {
          "output_type": "display_data",
          "data": {
            "text/plain": [
              "<Figure size 432x288 with 2 Axes>"
            ],
            "image/png": "[encoded data removed]"
          },
          "metadata": {
            "needs_background": "light"
          }
        }
      ]
    },
    {
      "cell_type": "code",
      "source": [
        "plot_confusion_matrix(y_test, y_pred_test_oversampled, [\"Not Intersted\", \"Intersted\"])"
      ],
      "metadata": {
        "id": "k6ww5PrVLyYS",
        "colab": {
          "base_uri": "https://localhost:8080/",
          "height": 284
        },
        "outputId": "8e9ad6ea-6f8f-4819-8fd7-ce8c75c17e25"
      },
      "execution_count": 62,
      "outputs": [
        {
          "output_type": "display_data",
          "data": {
            "text/plain": [
              "<Figure size 432x288 with 2 Axes>"
            ],
            "image/png": "[encoded data removed]"
          },
          "metadata": {
            "needs_background": "light"
          }
        }
      ]
    },
    {
      "cell_type": "markdown",
      "source": [
        "**ROC Curve**"
      ],
      "metadata": {
        "id": "7o1PUB338gxf"
      }
    },
    {
      "cell_type": "code",
      "source": [
        "RocCurveDisplay.from_estimator(lr_oversampled, X_train, y_train, name=\"Driving Insurance Interest Classifier\")"
      ],
      "metadata": {
        "id": "ZzEsQ6ic8hYI",
        "colab": {
          "base_uri": "https://localhost:8080/",
          "height": 297
        },
        "outputId": "26b6ef6c-f8bc-40e9-a85b-ee05f6af26b3"
      },
      "execution_count": 63,
      "outputs": [
        {
          "output_type": "execute_result",
          "data": {
            "text/plain": [
              "<sklearn.metrics._plot.roc_curve.RocCurveDisplay at 0x7fa48c62f040>"
            ]
          },
          "metadata": {},
          "execution_count": 63
        },
        {
          "output_type": "display_data",
          "data": {
            "text/plain": [
              "<Figure size 432x288 with 1 Axes>"
            ],
            "image/png": "[encoded data removed]"
          },
          "metadata": {
            "needs_background": "light"
          }
        }
      ]
    },
    {
      "cell_type": "markdown",
      "source": [
        "## **4.3 Cross Validation**"
      ],
      "metadata": {
        "id": "7VAEmcfJORfn"
      }
    },
    {
      "cell_type": "markdown",
      "source": [
        "### **Weight_class=\"Balanced\"**"
      ],
      "metadata": {
        "id": "NAE9mXbHWY9X"
      }
    },
    {
      "cell_type": "code",
      "source": [
        "score = cross_val_score(lr_weighted,X_train,y_train,cv=10, scoring=\"f1_micro\")"
      ],
      "metadata": {
        "id": "iUB3hLTbWnvm"
      },
      "execution_count": 64,
      "outputs": []
    },
    {
      "cell_type": "code",
      "source": [
        "round(np.mean(score),2)"
      ],
      "metadata": {
        "id": "xdY4AS5bXham",
        "colab": {
          "base_uri": "https://localhost:8080/"
        },
        "outputId": "190dd1d2-90ed-4438-d22a-f17d01913b70"
      },
      "execution_count": 65,
      "outputs": [
        {
          "output_type": "execute_result",
          "data": {
            "text/plain": [
              "0.64"
            ]
          },
          "metadata": {},
          "execution_count": 65
        }
      ]
    },
    {
      "cell_type": "markdown",
      "source": [
        "### **Oversample Data**"
      ],
      "metadata": {
        "id": "gXZ0SXYKWhsg"
      }
    },
    {
      "cell_type": "code",
      "source": [
        "steps = [('over', RandomOverSampler()), ('model', LogisticRegression())]\n",
        "pipeline = Pipeline(steps=steps)\n",
        "\n",
        "# evaluate pipeline\n",
        "cv = RepeatedStratifiedKFold(n_splits=10, n_repeats=3, random_state=42)\n",
        "scores = cross_val_score(pipeline, X_train, y_train, scoring='f1_micro', cv=cv)\n",
        "round(np.mean(scores),2)"
      ],
      "metadata": {
        "id": "4OnAeo31Ocpe",
        "colab": {
          "base_uri": "https://localhost:8080/"
        },
        "outputId": "690f6a49-3e0e-466c-c962-6ec45f9b0b5c"
      },
      "execution_count": 66,
      "outputs": [
        {
          "output_type": "execute_result",
          "data": {
            "text/plain": [
              "0.64"
            ]
          },
          "metadata": {},
          "execution_count": 66
        }
      ]
    },
    {
      "cell_type": "markdown",
      "source": [
        "## **4.4 Conclusion**"
      ],
      "metadata": {
        "id": "WhGcmRoZaXvz"
      }
    },
    {
      "cell_type": "code",
      "source": [
        "print(\"TEST REPORT WEIGHTED MODEL\")\n",
        "print(classification_report(y_test, y_pred_test_weighted))\n",
        "print(\"TEST REPORT OVERSAMPLED MODEL\")\n",
        "print(classification_report(y_over_test, y_pred_test_oversampled))"
      ],
      "metadata": {
        "id": "_zx-Wh85Z2Gv",
        "colab": {
          "base_uri": "https://localhost:8080/"
        },
        "outputId": "efd29b37-7263-4483-dcdf-c23e9150e1b7"
      },
      "execution_count": 67,
      "outputs": [
        {
          "output_type": "stream",
          "name": "stdout",
          "text": [
            "TEST REPORT WEIGHTED MODEL\n",
            "              precision    recall  f1-score   support\n",
            "\n",
            "           0       0.99      0.60      0.75    100195\n",
            "           1       0.25      0.97      0.40     14138\n",
            "\n",
            "    accuracy                           0.64    114333\n",
            "   macro avg       0.62      0.78      0.58    114333\n",
            "weighted avg       0.90      0.64      0.70    114333\n",
            "\n",
            "TEST REPORT OVERSAMPLED MODEL\n",
            "              precision    recall  f1-score   support\n",
            "\n",
            "           0       1.00      0.57      0.72    100195\n",
            "           1       0.24      0.99      0.39     14138\n",
            "\n",
            "    accuracy                           0.62    114333\n",
            "   macro avg       0.62      0.78      0.56    114333\n",
            "weighted avg       0.90      0.62      0.68    114333\n",
            "\n"
          ]
        }
      ]
    },
    {
      "cell_type": "markdown",
      "source": [
        "Comparing the scores in the cross-validation and the performance in the classification report, it doesn't appear to be any relevant difference between the two ways of tackling the problem of imbalanced classes."
      ],
      "metadata": {
        "id": "KCiMf2G0ai4S"
      }
    },
    {
      "cell_type": "markdown",
      "source": [
        "#**5. Previsions**\n",
        "Now we'll make our predictions on the Test Set.\n",
        "\n",
        "The final results we'll be saved in an Excel document. \n",
        "\n",
        "[Take me to Outline](#scrollTo=fLKKpiJRSEp-&line=5&uniqifier=1)"
      ],
      "metadata": {
        "id": "USZ4VCfwJcoN"
      }
    },
    {
      "cell_type": "markdown",
      "source": [
        "## **5.1 Training on whole Train Set**\n"
      ],
      "metadata": {
        "id": "hwW-EAGMQUOm"
      }
    },
    {
      "cell_type": "markdown",
      "source": [
        "**Encoding of the test data**"
      ],
      "metadata": {
        "id": "HR_3x6LIcQmZ"
      }
    },
    {
      "cell_type": "code",
      "source": [
        "test_1 = test.drop(\"id\",axis=1)\n",
        "\n",
        "test_1.loc[:, 'Region_Code'] = test_1['Region_Code'].map(target_encode_region_code) \n",
        "test_1 = pd.get_dummies(test_1, columns=[\"Gender\",\"Vehicle_Age\"])\n",
        "Vehicle_Damage_labels = {\"Yes\":1,\"No\":0}\n",
        "test_1.Vehicle_Damage = test_1.Vehicle_Damage.map(Vehicle_Damage_labels)"
      ],
      "metadata": {
        "id": "qyw6ilWYbz5B"
      },
      "execution_count": 68,
      "outputs": []
    },
    {
      "cell_type": "markdown",
      "source": [
        "**Creating arrays to train and test the model**"
      ],
      "metadata": {
        "id": "ga66hq5Q6dhL"
      }
    },
    {
      "cell_type": "code",
      "source": [
        "X_train_final = train_1.drop([\"Response\",\"id\"],axis=1).values\n",
        "Y_train_final = train_1.Response.values\n",
        "X_test_final = test_1.values"
      ],
      "metadata": {
        "id": "LEZPgtQUhZer"
      },
      "execution_count": 69,
      "outputs": []
    },
    {
      "cell_type": "markdown",
      "source": [
        "**Creating the model**"
      ],
      "metadata": {
        "id": "_uITtPTb6ob5"
      }
    },
    {
      "cell_type": "markdown",
      "source": [
        "I'll tackle the problem of imbalanced classes just by using `class_weight=\"balanced\"` as there's no significant difference from using `RandomOverSampler()`."
      ],
      "metadata": {
        "id": "vhRPDYVOFt6_"
      }
    },
    {
      "cell_type": "code",
      "source": [
        "ss_final = StandardScaler()\n",
        "X_train_final = ss_final.fit_transform(X_train_final)\n",
        "X_test_final = ss_final.transform(X_test_final)"
      ],
      "metadata": {
        "id": "Xinh3PM2I5M6"
      },
      "execution_count": 70,
      "outputs": []
    },
    {
      "cell_type": "code",
      "source": [
        "final_model = LogisticRegression(class_weight=\"balanced\")\n",
        "final_model.fit(X_train_final,Y_train_final)"
      ],
      "metadata": {
        "id": "DHXqqGxQ6rLK",
        "colab": {
          "base_uri": "https://localhost:8080/",
          "height": 75
        },
        "outputId": "4ccb5175-2003-4718-fa03-fc3e52d0c111"
      },
      "execution_count": 71,
      "outputs": [
        {
          "output_type": "execute_result",
          "data": {
            "text/plain": [
              "LogisticRegression(class_weight='balanced')"
            ],
            "text/html": [
              "<style>#sk-container-id-4 {color: black;background-color: white;}#sk-container-id-4 pre{padding: 0;}#sk-container-id-4 div.sk-toggleable {background-color: white;}#sk-container-id-4 label.sk-toggleable__label {cursor: pointer;display: block;width: 100%;margin-bottom: 0;padding: 0.3em;box-sizing: border-box;text-align: center;}#sk-container-id-4 label.sk-toggleable__label-arrow:before {content: \"▸\";float: left;margin-right: 0.25em;color: #696969;}#sk-container-id-4 label.sk-toggleable__label-arrow:hover:before {color: black;}#sk-container-id-4 div.sk-estimator:hover label.sk-toggleable__label-arrow:before {color: black;}#sk-container-id-4 div.sk-toggleable__content {max-height: 0;max-width: 0;overflow: hidden;text-align: left;background-color: #f0f8ff;}#sk-container-id-4 div.sk-toggleable__content pre {margin: 0.2em;color: black;border-radius: 0.25em;background-color: #f0f8ff;}#sk-container-id-4 input.sk-toggleable__control:checked~div.sk-toggleable__content {max-height: 200px;max-width: 100%;overflow: auto;}#sk-container-id-4 input.sk-toggleable__control:checked~label.sk-toggleable__label-arrow:before {content: \"▾\";}#sk-container-id-4 div.sk-estimator input.sk-toggleable__control:checked~label.sk-toggleable__label {background-color: #d4ebff;}#sk-container-id-4 div.sk-label input.sk-toggleable__control:checked~label.sk-toggleable__label {background-color: #d4ebff;}#sk-container-id-4 input.sk-hidden--visually {border: 0;clip: rect(1px 1px 1px 1px);clip: rect(1px, 1px, 1px, 1px);height: 1px;margin: -1px;overflow: hidden;padding: 0;position: absolute;width: 1px;}#sk-container-id-4 div.sk-estimator {font-family: monospace;background-color: #f0f8ff;border: 1px dotted black;border-radius: 0.25em;box-sizing: border-box;margin-bottom: 0.5em;}#sk-container-id-4 div.sk-estimator:hover {background-color: #d4ebff;}#sk-container-id-4 div.sk-parallel-item::after {content: \"\";width: 100%;border-bottom: 1px solid gray;flex-grow: 1;}#sk-container-id-4 div.sk-label:hover label.sk-toggleable__label {background-color: #d4ebff;}#sk-container-id-4 div.sk-serial::before {content: \"\";position: absolute;border-left: 1px solid gray;box-sizing: border-box;top: 0;bottom: 0;left: 50%;z-index: 0;}#sk-container-id-4 div.sk-serial {display: flex;flex-direction: column;align-items: center;background-color: white;padding-right: 0.2em;padding-left: 0.2em;position: relative;}#sk-container-id-4 div.sk-item {position: relative;z-index: 1;}#sk-container-id-4 div.sk-parallel {display: flex;align-items: stretch;justify-content: center;background-color: white;position: relative;}#sk-container-id-4 div.sk-item::before, #sk-container-id-4 div.sk-parallel-item::before {content: \"\";position: absolute;border-left: 1px solid gray;box-sizing: border-box;top: 0;bottom: 0;left: 50%;z-index: -1;}#sk-container-id-4 div.sk-parallel-item {display: flex;flex-direction: column;z-index: 1;position: relative;background-color: white;}#sk-container-id-4 div.sk-parallel-item:first-child::after {align-self: flex-end;width: 50%;}#sk-container-id-4 div.sk-parallel-item:last-child::after {align-self: flex-start;width: 50%;}#sk-container-id-4 div.sk-parallel-item:only-child::after {width: 0;}#sk-container-id-4 div.sk-dashed-wrapped {border: 1px dashed gray;margin: 0 0.4em 0.5em 0.4em;box-sizing: border-box;padding-bottom: 0.4em;background-color: white;}#sk-container-id-4 div.sk-label label {font-family: monospace;font-weight: bold;display: inline-block;line-height: 1.2em;}#sk-container-id-4 div.sk-label-container {text-align: center;}#sk-container-id-4 div.sk-container {/* jupyter's `normalize.less` sets `[hidden] { display: none; }` but bootstrap.min.css set `[hidden] { display: none !important; }` so we also need the `!important` here to be able to override the default hidden behavior on the sphinx rendered scikit-learn.org. See: https://github.com/scikit-learn/scikit-learn/issues/21755 */display: inline-block !important;position: relative;}#sk-container-id-4 div.sk-text-repr-fallback {display: none;}</style><div id=\"sk-container-id-4\" class=\"sk-top-container\"><div class=\"sk-text-repr-fallback\"><pre>LogisticRegression(class_weight=&#x27;balanced&#x27;)</pre><b>In a Jupyter environment, please rerun this cell to show the HTML representation or trust the notebook. <br />On GitHub, the HTML representation is unable to render, please try loading this page with nbviewer.org.</b></div><div class=\"sk-container\" hidden><div class=\"sk-item\"><div class=\"sk-estimator sk-toggleable\"><input class=\"sk-toggleable__control sk-hidden--visually\" id=\"sk-estimator-id-4\" type=\"checkbox\" checked><label for=\"sk-estimator-id-4\" class=\"sk-toggleable__label sk-toggleable__label-arrow\">LogisticRegression</label><div class=\"sk-toggleable__content\"><pre>LogisticRegression(class_weight=&#x27;balanced&#x27;)</pre></div></div></div></div></div>"
            ]
          },
          "metadata": {},
          "execution_count": 71
        }
      ]
    },
    {
      "cell_type": "code",
      "source": [
        "y_pred_train_final = final_model.predict(X_train_final)\n",
        "y_proba_train_final = final_model.predict_proba(X_train_final)\n",
        "\n",
        "print(\"TRAIN REPORT\")\n",
        "print(classification_report(Y_train_final, y_pred_train_final))"
      ],
      "metadata": {
        "id": "eRw0N9JdJnf0",
        "colab": {
          "base_uri": "https://localhost:8080/"
        },
        "outputId": "344f1286-76df-4a52-aeed-7b7d8c7a1cc9"
      },
      "execution_count": 72,
      "outputs": [
        {
          "output_type": "stream",
          "name": "stdout",
          "text": [
            "TRAIN REPORT\n",
            "              precision    recall  f1-score   support\n",
            "\n",
            "           0       0.99      0.60      0.75    334399\n",
            "           1       0.25      0.97      0.40     46710\n",
            "\n",
            "    accuracy                           0.64    381109\n",
            "   macro avg       0.62      0.78      0.57    381109\n",
            "weighted avg       0.90      0.64      0.70    381109\n",
            "\n"
          ]
        }
      ]
    },
    {
      "cell_type": "markdown",
      "source": [
        "## **5.2 Predictions on Test Set**"
      ],
      "metadata": {
        "id": "QDWiDLEmQavF"
      }
    },
    {
      "cell_type": "code",
      "source": [
        "y_pred_test_final = final_model.predict(X_test_final)\n",
        "y_proba_test_final = final_model.predict_proba(X_test_final)"
      ],
      "metadata": {
        "id": "0N0W0K8NcEQI"
      },
      "execution_count": 73,
      "outputs": []
    },
    {
      "cell_type": "code",
      "source": [
        "df_result = pd.DataFrame({\n",
        "    \"ID number\":test[\"id\"],\n",
        "    \"prediction\":y_pred_test_final,\n",
        "    \"probability\":y_proba_test_final.max(axis=1).round(4)\n",
        "})\n",
        "\n",
        "df_result.to_excel(\"Car_insurance_prediction.xlsx\",index=False)"
      ],
      "metadata": {
        "id": "sTwSr7lK45ol"
      },
      "execution_count": 74,
      "outputs": []
    }
  ]
}